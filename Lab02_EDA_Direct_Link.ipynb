{
  "cells": [
    {
      "cell_type": "markdown",
      "metadata": {
        "id": "view-in-github",
        "colab_type": "text"
      },
      "source": [
        "<a href=\"https://colab.research.google.com/github/datametal/ML-Algorithmic-Trading/blob/main/Lab02_EDA_Direct_Link.ipynb\" target=\"_parent\"><img src=\"https://colab.research.google.com/assets/colab-badge.svg\" alt=\"Open In Colab\"/></a>"
      ]
    },
    {
      "cell_type": "code",
      "execution_count": null,
      "metadata": {
        "ExecuteTime": {
          "end_time": "2018-02-02T15:15:15.363920Z",
          "start_time": "2018-02-02T15:15:14.337886Z"
        },
        "id": "S3LqRQv1-zCW"
      },
      "outputs": [],
      "source": [
        "import numpy as np\n",
        "import pandas as pd\n",
        "pd.set_option('display.max_columns', None)"
      ]
    },
    {
      "cell_type": "code",
      "execution_count": null,
      "metadata": {
        "id": "95-XjR-h-zCa"
      },
      "outputs": [],
      "source": [
        "#!pip install plotly numpy pandas"
      ]
    },
    {
      "cell_type": "code",
      "execution_count": null,
      "metadata": {
        "id": "g8GPkQsx-zCa"
      },
      "outputs": [],
      "source": [
        "import plotly as py\n",
        "import plotly.express as px\n",
        "\n",
        "import plotly.graph_objs as go\n",
        "import plotly.figure_factory as ff"
      ]
    },
    {
      "cell_type": "markdown",
      "metadata": {
        "id": "b9hW6AJR-zCa"
      },
      "source": [
        "# Introduction\n",
        "\n",
        "In this lecture we examine the process of Exploratory Data Analysis (EDA).  Often you will acquire or even be given a collection of data in order to conduct some analysis or answer some questions. The first step in using that data is to ensure that it is in the correct form (cleaned) and that you understand its properties and limitations (EDA).  Often as you explore data through EDA you will identify additional transformations that may be required before the data is ready for analysis.\n",
        "\n",
        "In this notebook we obtain crime data from the city of Berkeley's public records.  Ultimately, our goal might be to understand policing patterns but before we get there we must first clean and understand the data."
      ]
    },
    {
      "cell_type": "markdown",
      "metadata": {
        "id": "vlvuYo1y-zCc"
      },
      "source": [
        "# Getting the Data\n",
        "\n",
        "To begin this analysis we want to get data about crimes in Berkeley.  Remarkably, the city of Berkeley maintains an [Open Data Portal](https://data.cityofberkeley.info/) for citizens to access data about the city.  We will be examining the:\n",
        "\n",
        "1. [Call Data](https://data.cityofberkeley.info/Public-Safety/Berkeley-PD-Calls-for-Service/k2nh-s5h5)\n",
        "1. [Stop Data](https://data.cityofberkeley.info/Public-Safety/Berkeley-PD-Stop-Data-October-1-2020-Present-/ysvs-bcge)\n",
        "\n",
        "Fortunately, this data is also relatively well document with detailed descriptions of what it contains."
      ]
    },
    {
      "cell_type": "markdown",
      "metadata": {
        "id": "0KWEQbw1-zCc"
      },
      "source": [
        "For this lecture, I am downloading a pre-extracted version."
      ]
    },
    {
      "cell_type": "code",
      "execution_count": null,
      "metadata": {
        "id": "SQOulZTy-zCd"
      },
      "outputs": [],
      "source": [
        "def fetch_and_cache(data_url, file, data_dir=\"data\", force=False):\n",
        "    \"\"\"\n",
        "    Download and cache a url and return the file object.\n",
        "\n",
        "    data_url: the web address to download\n",
        "    file: the file in which to save the results.\n",
        "    data_dir: (default=\"data\") the location to save the data\n",
        "    force: if true the file is always re-downloaded\n",
        "\n",
        "    return: The pathlib.Path object representing the file.\n",
        "    \"\"\"\n",
        "    import requests\n",
        "    from pathlib import Path\n",
        "    import time\n",
        "    data_dir = Path(data_dir)\n",
        "    data_dir.mkdir(exist_ok = True)\n",
        "    file_path = data_dir / Path(file)\n",
        "    # If the file already exists and we want to force a download then\n",
        "    # delete the file first so that the creation date is correct.\n",
        "    if force and file_path.exists():\n",
        "        file_path.unlink()\n",
        "    if force or not file_path.exists():\n",
        "        print('Downloading...', end=' ')\n",
        "        resp = requests.get(data_url)\n",
        "        with file_path.open('wb') as f:\n",
        "            f.write(resp.content)\n",
        "        print('Done!')\n",
        "        last_modified_time = time.ctime(file_path.stat().st_mtime)\n",
        "    else:\n",
        "        last_modified_time = time.ctime(file_path.stat().st_mtime)\n",
        "        print(\"Using cached version that was downloaded (UTC):\", last_modified_time)\n",
        "    return file_path\n"
      ]
    },
    {
      "cell_type": "code",
      "execution_count": null,
      "metadata": {
        "id": "zaEimy2V-zCd",
        "colab": {
          "base_uri": "https://localhost:8080/"
        },
        "outputId": "1fabb352-33bb-4cde-c357-97af8230e9af"
      },
      "outputs": [
        {
          "output_type": "stream",
          "name": "stdout",
          "text": [
            "Downloading... Done!\n",
            "Downloading... Done!\n"
          ]
        }
      ],
      "source": [
        "calls_file = fetch_and_cache(\"https://raw.githubusercontent.com/DS-100/oreilly-bootcamp/main/data/calls.csv\",\n",
        "                             \"calls.csv\")\n",
        "stops_file = fetch_and_cache(\"https://raw.githubusercontent.com/DS-100/oreilly-bootcamp/main/data/stops.json\",\n",
        "                             \"stops.json\")"
      ]
    },
    {
      "cell_type": "markdown",
      "metadata": {
        "id": "nEu1w1wB-zCe"
      },
      "source": [
        "\n",
        "## Most data has bad documentation:\n",
        "\n",
        "Unfortunately, data is seldom well documented and when it is you may not be able to trust the documentation. It is therefore critical that when we download the data we investigate the fields and verify that it reflects the assumptions made in the documentation.\n",
        "\n"
      ]
    },
    {
      "cell_type": "markdown",
      "metadata": {
        "id": "yJsdWJUM-zCe"
      },
      "source": [
        "# Exploring the data\n",
        "\n",
        "Now that we have obtained the data we want to understand its:\n",
        "\n",
        "* **Structure** -- the \"shape\" of a data file\n",
        "* **Granularity** -- how fine/coarse is each datum\n",
        "* **Scope** -- how (in)complete is the data\n",
        "* **Temporality** -- how is the data situated in time\n",
        "* **Faithfulness** -- how well does the data capture \"reality\"\n",
        "\n"
      ]
    },
    {
      "cell_type": "markdown",
      "metadata": {
        "id": "hwNmJ1QC-zCe"
      },
      "source": [
        "## Structure\n",
        "\n",
        "Before we even begin to load the data it often helps to understand a little about the high-level structure:\n",
        "\n",
        "1. How much data do I have?\n",
        "1. How is it formatted?"
      ]
    },
    {
      "cell_type": "markdown",
      "metadata": {
        "id": "7A2ltLaG-zCf"
      },
      "source": [
        "### How big is the data?\n",
        "\n",
        "I often like to start my analysis by getting a rough estimate of the size of the data.  This will help inform the tools I use and how I view the data.  If it is relatively small I might use a text editor or a spreadsheet to look at the data.  If it is larger, I might jump to more programmatic exploration or even used distributed computing tools.\n",
        "\n",
        "However here we will use python tools to probe the file."
      ]
    },
    {
      "cell_type": "code",
      "execution_count": null,
      "metadata": {
        "ExecuteTime": {
          "end_time": "2018-02-02T15:15:18.961511Z",
          "start_time": "2018-02-02T15:15:18.955308Z"
        },
        "id": "oyYuLawn-zCf",
        "colab": {
          "base_uri": "https://localhost:8080/"
        },
        "outputId": "b1218d4a-0a17-495e-bf14-e083062bd498"
      },
      "outputs": [
        {
          "output_type": "stream",
          "name": "stdout",
          "text": [
            "data/calls.csv is 0.87466 MB\n",
            "data/stops.json is 21.676071 MB\n"
          ]
        }
      ],
      "source": [
        "import os\n",
        "print(calls_file, \"is\",  os.path.getsize(calls_file) / 1e6, \"MB\")\n",
        "print(stops_file, \"is\", os.path.getsize(stops_file) / 1e6, \"MB\")"
      ]
    },
    {
      "cell_type": "markdown",
      "metadata": {
        "id": "tawzOt7l-zCf"
      },
      "source": [
        "All the files are relatively small and we could comfortable examine them in a text editors.  (Personally, I like *sublime* or *emacs* but others may have a different *vi*ew.).\n",
        "\n",
        "In listing the files I noticed that the names suggest that they are all text file formats:\n",
        "* **CSV**: Comma separated values is a very standard table format.\n",
        "* **JSON**: JavaScript Object Notation is a very standard semi-structured file format used to store nested data.\n",
        "\n",
        "We will dive into the formats in a moment.  However because these are text data I might also want to investigate the number of lines which often correspond to records."
      ]
    },
    {
      "cell_type": "code",
      "execution_count": null,
      "metadata": {
        "ExecuteTime": {
          "end_time": "2018-02-02T15:15:18.993584Z",
          "start_time": "2018-02-02T15:15:18.989848Z"
        },
        "id": "KqFPW7jE-zCg",
        "colab": {
          "base_uri": "https://localhost:8080/"
        },
        "outputId": "2ce823f1-9fb3-4358-b605-ce71d8dd1450"
      },
      "outputs": [
        {
          "output_type": "stream",
          "name": "stdout",
          "text": [
            "data/calls.csv is 13457 lines.\n"
          ]
        }
      ],
      "source": [
        "with open(calls_file, \"r\") as f:\n",
        "    print(calls_file, \"is\", sum(1 for l in f), \"lines.\")"
      ]
    },
    {
      "cell_type": "code",
      "execution_count": null,
      "metadata": {
        "ExecuteTime": {
          "end_time": "2018-02-02T15:15:18.993584Z",
          "start_time": "2018-02-02T15:15:18.989848Z"
        },
        "id": "OYbwJpoR-zCg",
        "colab": {
          "base_uri": "https://localhost:8080/"
        },
        "outputId": "7ad0be61-e082-4d5c-f45b-5c2db08e6f40"
      },
      "outputs": [
        {
          "output_type": "stream",
          "name": "stdout",
          "text": [
            "data/stops.json is 404892 lines.\n"
          ]
        }
      ],
      "source": [
        "with open(stops_file, \"r\") as f:\n",
        "    print(stops_file, \"is\", sum(1 for l in f), \"lines.\")"
      ]
    },
    {
      "cell_type": "markdown",
      "metadata": {
        "id": "26d2B3Vs-zCg"
      },
      "source": [
        "\n",
        "### What is the file format?  (Can we trust extensions?)\n",
        "\n",
        "We already noticed that the files end in `csv` and `json` which suggests that these are comma separated and javascript object files respectively.  However, we can't always rely on the naming as this is only a convention.  For example, here we picked the name of the file when downloading based on some hints in the URL.\n",
        "\n",
        "\n",
        "\n",
        "**Often files will have incorrect extensions or no extension at all.**\n",
        "\n",
        "Let's assume that these are text files (and do not contain binary encoded data) so we can print a \"few lines\" to get a better understanding of the file."
      ]
    },
    {
      "cell_type": "code",
      "execution_count": null,
      "metadata": {
        "id": "8ktcBTHY-zCh",
        "colab": {
          "base_uri": "https://localhost:8080/"
        },
        "outputId": "05e7fa9d-067d-4f2d-dad8-0f2c45331674"
      },
      "outputs": [
        {
          "output_type": "stream",
          "name": "stdout",
          "text": [
            "data/calls.csv ======================\n",
            "0 \t 'CASENO,OFFENSE,EVENTDT,EVENTTM,CVLEGEND,CVDOW,InDbDate,Block_Location,BLKADDR,City,State\\n'\n",
            "1 \t '22036516,THEFT FROM AUTO,08/10/2022 12:00:00 AM,6:10:00 AM,LARCENY - FROM VEHICLE,3,10/13/2022 04:42:00 PM,\"Berkeley, CA\\n'\n",
            "2 \t '(37.86988, -122.27054)\",,Berkeley,CA\\n'\n",
            "3 \t '22027674,BURGLARY RESIDENTIAL,06/16/2022 12:00:00 AM,8:25:00 PM,BURGLARY - RESIDENTIAL,4,10/13/2022 04:42:00 PM,\"1700 BLOCK OXFORD ST\\n'\n",
            "4 \t 'Berkeley, CA\\n'\n"
          ]
        }
      ],
      "source": [
        "print(calls_file, \"======================\")\n",
        "with open(calls_file, \"r\") as f:\n",
        "    for i in range(5):\n",
        "        print(i, \"\\t\", repr(f.readline()))"
      ]
    },
    {
      "cell_type": "markdown",
      "metadata": {
        "id": "pU96c-aG-zCh"
      },
      "source": [
        "### What are some observations about `Calls` data?\n",
        "\n",
        "\n",
        "<details><summary>Click for Solution</summary>\n",
        "\n",
        "1. It appears to be in comma separated value (CSV) format.\n",
        "1. First line contains the column headings.\n",
        "1. There are lots of **new-line** `\\n` characters:\n",
        "    * at the ends of lines (delimiting records?)\n",
        "    * *within records* as part of addresses.\n",
        "1. There are **\"quoted\"** strings in the `Block_Location` column:\n",
        "```\n",
        "\"2500 LE CONTE AVE\n",
        "Berkeley, CA\n",
        "(37.876965, -122.260544)\"\n",
        "```\n",
        "these are going to be difficult.  What are the implications on our earlier line count calculations?\n",
        "\n",
        "\n",
        "</details>"
      ]
    },
    {
      "cell_type": "code",
      "execution_count": null,
      "metadata": {
        "id": "iUkavS4u-zCh",
        "colab": {
          "base_uri": "https://localhost:8080/"
        },
        "outputId": "f47e7f87-cea5-459e-d387-8f1f43f74542"
      },
      "outputs": [
        {
          "output_type": "stream",
          "name": "stdout",
          "text": [
            "data/stops.json ======================\n",
            "0 \t '[\\n'\n",
            "1 \t '   {\\n'\n",
            "2 \t '      \"lea_record_id\": \"BPD000021033\",\\n'\n",
            "3 \t '      \"person_number\": \"1\",\\n'\n",
            "4 \t '      \"date_of_stop\": \"2020-10-01T00:00:00.000\",\\n'\n",
            "5 \t '      \"time_of_stop\": \"11:14\",\\n'\n",
            "6 \t '      \"duration_of_stop\": \"8\",\\n'\n",
            "7 \t '      \"is_stop_made_in_response\": \"false\",\\n'\n",
            "8 \t '      \"type_of_stop\": \"Vehicle\",\\n'\n",
            "9 \t '      \"officer_type_of_assignment\": \"Patrol, traffic enforcement, field operations\",\\n'\n",
            "10 \t '      \"location\": \"2900 block of Shattuck Ave\",\\n'\n",
            "11 \t '      \"city\": \"Berkeley\",\\n'\n",
            "12 \t '      \"is_location_a_k12_public\": \"false\",\\n'\n",
            "13 \t '      \"raceperceivedpriortostop\": \"true\",\\n'\n",
            "14 \t '      \"perceived_race_or_ethnicity\": \"Hispanic/Latino\",\\n'\n",
            "15 \t '      \"perceived_gender\": \"Male\",\\n'\n",
            "16 \t '      \"perceived_gender_nonconforming\": \"false\",\\n'\n",
            "17 \t '      \"is_lgbt\": \"false\",\\n'\n",
            "18 \t '      \"perceived_age\": \"30\",\\n'\n",
            "19 \t '      \"person_had_limited_or_no\": \"false\",\\n'\n",
            "20 \t '      \"perceived_or_known_disability\": \"None\",\\n'\n",
            "21 \t '      \"city_of_residence\": \"OAKLAND\",\\n'\n",
            "22 \t '      \"reason_for_stop\": \"Traffic Violation\",\\n'\n",
            "23 \t '      \"reason_for_stop_narrative\": \"Talking on cell while driving not hands free.\",\\n'\n",
            "24 \t '      \"traffic_violation_type\": \"Moving Violation\",\\n'\n",
            "25 \t '      \"traffic_violation_offense\": \"VC 23123(A) USE CELLPH W/DRIV W/O HFD (I)\",\\n'\n",
            "26 \t '      \"actions_taken\": \"24\",\\n'\n",
            "27 \t '      \"citation_offense_codes\": \"VC 23123(A) USE CELLPH W/DRIV W/O HFD (I) | VC 12500(A) DRIVE W/O LICENSE (M) | VC 27315 SEATBELT VIOLATION (I)\",\\n'\n",
            "28 \t '      \"result_of_stop\": \"Citation for infraction\",\\n'\n",
            "29 \t '      \"lat\": \"37.85531305\",\\n'\n",
            "30 \t '      \"long\": \"-122.2665713\"\\n'\n",
            "31 \t '   },\\n'\n",
            "32 \t '   {\\n'\n",
            "33 \t '      \"lea_record_id\": \"BPD000021032\",\\n'\n",
            "34 \t '      \"person_number\": \"2\",\\n'\n",
            "35 \t '      \"date_of_stop\": \"2020-10-01T00:00:00.000\",\\n'\n",
            "36 \t '      \"time_of_stop\": \"09:40\",\\n'\n",
            "37 \t '      \"duration_of_stop\": \"15\",\\n'\n",
            "38 \t '      \"is_stop_made_in_response\": \"true\",\\n'\n",
            "39 \t '      \"type_of_stop\": \"Pedestrian\",\\n'\n"
          ]
        }
      ],
      "source": [
        "print(stops_file, \"======================\")\n",
        "with open(stops_file, \"r\") as f:\n",
        "    for i in range(40):\n",
        "        print(i, \"\\t\", repr(f.readline()))"
      ]
    },
    {
      "cell_type": "markdown",
      "metadata": {
        "id": "pXoQwMdj-zCi"
      },
      "source": [
        "Notice that I used the `repr` function to return the raw string with special characters.  This is helpful in deducing the file format."
      ]
    },
    {
      "cell_type": "markdown",
      "metadata": {
        "id": "CXK8d7l9-zCi"
      },
      "source": [
        "\n",
        "## Loading the Data\n",
        "\n",
        "We will now attempt to load the data into python.  We will be using the Pandas dataframe library for basic tabular data analysis.  Fortunately, the Pandas library has some relatively sophisticated functions for loading data.\n",
        "\n",
        "Because the file appears to be a relatively well formatted CSV we will attempt to load it directly and allow the Pandas Library to deduce column headers.  (Always check that first row and column look correct after loading.)"
      ]
    },
    {
      "cell_type": "code",
      "execution_count": null,
      "metadata": {
        "id": "QJNJ5IRk-zCi",
        "colab": {
          "base_uri": "https://localhost:8080/",
          "height": 289
        },
        "outputId": "6fba7258-a446-4b35-e821-26e2aa7924ac"
      },
      "outputs": [
        {
          "output_type": "execute_result",
          "data": {
            "text/plain": [
              "     CASENO               OFFENSE                 EVENTDT     EVENTTM  \\\n",
              "0  22036516       THEFT FROM AUTO  08/10/2022 12:00:00 AM  6:10:00 AM   \n",
              "1  22027674  BURGLARY RESIDENTIAL  06/16/2022 12:00:00 AM  8:25:00 PM   \n",
              "2  22023993             VANDALISM  05/25/2022 12:00:00 AM  8:00:00 AM   \n",
              "3  22026547           DISTURBANCE  06/10/2022 12:00:00 AM  9:35:00 PM   \n",
              "4  22018126  ASSAULT/BATTERY FEL.  04/20/2022 12:00:00 AM  3:31:00 PM   \n",
              "\n",
              "                 CVLEGEND  CVDOW                InDbDate  \\\n",
              "0  LARCENY - FROM VEHICLE      3  10/13/2022 04:42:00 PM   \n",
              "1  BURGLARY - RESIDENTIAL      4  10/13/2022 04:42:00 PM   \n",
              "2               VANDALISM      3  10/13/2022 04:42:00 PM   \n",
              "3      DISORDERLY CONDUCT      5  10/13/2022 04:42:00 PM   \n",
              "4                 ASSAULT      3  10/13/2022 04:42:00 PM   \n",
              "\n",
              "                                      Block_Location                  BLKADDR  \\\n",
              "0               Berkeley, CA\\n(37.86988, -122.27054)                      NaN   \n",
              "1  1700 BLOCK OXFORD ST\\nBerkeley, CA\\n(37.87674,...     1700 BLOCK OXFORD ST   \n",
              "2  2400 BLOCK 8TH ST\\nBerkeley, CA\\n(37.86206, -1...        2400 BLOCK 8TH ST   \n",
              "3  1300 BLOCK HEARST AVE\\nBerkeley, CA\\n(37.87133...    1300 BLOCK HEARST AVE   \n",
              "4  3000 BLOCK SHATTUCK AVE\\nBerkeley, CA\\n(37.855...  3000 BLOCK SHATTUCK AVE   \n",
              "\n",
              "       City State  \n",
              "0  Berkeley    CA  \n",
              "1  Berkeley    CA  \n",
              "2  Berkeley    CA  \n",
              "3  Berkeley    CA  \n",
              "4  Berkeley    CA  "
            ],
            "text/html": [
              "\n",
              "  <div id=\"df-ac5840a3-8e81-48d6-973f-3aab3ef24404\" class=\"colab-df-container\">\n",
              "    <div>\n",
              "<style scoped>\n",
              "    .dataframe tbody tr th:only-of-type {\n",
              "        vertical-align: middle;\n",
              "    }\n",
              "\n",
              "    .dataframe tbody tr th {\n",
              "        vertical-align: top;\n",
              "    }\n",
              "\n",
              "    .dataframe thead th {\n",
              "        text-align: right;\n",
              "    }\n",
              "</style>\n",
              "<table border=\"1\" class=\"dataframe\">\n",
              "  <thead>\n",
              "    <tr style=\"text-align: right;\">\n",
              "      <th></th>\n",
              "      <th>CASENO</th>\n",
              "      <th>OFFENSE</th>\n",
              "      <th>EVENTDT</th>\n",
              "      <th>EVENTTM</th>\n",
              "      <th>CVLEGEND</th>\n",
              "      <th>CVDOW</th>\n",
              "      <th>InDbDate</th>\n",
              "      <th>Block_Location</th>\n",
              "      <th>BLKADDR</th>\n",
              "      <th>City</th>\n",
              "      <th>State</th>\n",
              "    </tr>\n",
              "  </thead>\n",
              "  <tbody>\n",
              "    <tr>\n",
              "      <th>0</th>\n",
              "      <td>22036516</td>\n",
              "      <td>THEFT FROM AUTO</td>\n",
              "      <td>08/10/2022 12:00:00 AM</td>\n",
              "      <td>6:10:00 AM</td>\n",
              "      <td>LARCENY - FROM VEHICLE</td>\n",
              "      <td>3</td>\n",
              "      <td>10/13/2022 04:42:00 PM</td>\n",
              "      <td>Berkeley, CA\\n(37.86988, -122.27054)</td>\n",
              "      <td>NaN</td>\n",
              "      <td>Berkeley</td>\n",
              "      <td>CA</td>\n",
              "    </tr>\n",
              "    <tr>\n",
              "      <th>1</th>\n",
              "      <td>22027674</td>\n",
              "      <td>BURGLARY RESIDENTIAL</td>\n",
              "      <td>06/16/2022 12:00:00 AM</td>\n",
              "      <td>8:25:00 PM</td>\n",
              "      <td>BURGLARY - RESIDENTIAL</td>\n",
              "      <td>4</td>\n",
              "      <td>10/13/2022 04:42:00 PM</td>\n",
              "      <td>1700 BLOCK OXFORD ST\\nBerkeley, CA\\n(37.87674,...</td>\n",
              "      <td>1700 BLOCK OXFORD ST</td>\n",
              "      <td>Berkeley</td>\n",
              "      <td>CA</td>\n",
              "    </tr>\n",
              "    <tr>\n",
              "      <th>2</th>\n",
              "      <td>22023993</td>\n",
              "      <td>VANDALISM</td>\n",
              "      <td>05/25/2022 12:00:00 AM</td>\n",
              "      <td>8:00:00 AM</td>\n",
              "      <td>VANDALISM</td>\n",
              "      <td>3</td>\n",
              "      <td>10/13/2022 04:42:00 PM</td>\n",
              "      <td>2400 BLOCK 8TH ST\\nBerkeley, CA\\n(37.86206, -1...</td>\n",
              "      <td>2400 BLOCK 8TH ST</td>\n",
              "      <td>Berkeley</td>\n",
              "      <td>CA</td>\n",
              "    </tr>\n",
              "    <tr>\n",
              "      <th>3</th>\n",
              "      <td>22026547</td>\n",
              "      <td>DISTURBANCE</td>\n",
              "      <td>06/10/2022 12:00:00 AM</td>\n",
              "      <td>9:35:00 PM</td>\n",
              "      <td>DISORDERLY CONDUCT</td>\n",
              "      <td>5</td>\n",
              "      <td>10/13/2022 04:42:00 PM</td>\n",
              "      <td>1300 BLOCK HEARST AVE\\nBerkeley, CA\\n(37.87133...</td>\n",
              "      <td>1300 BLOCK HEARST AVE</td>\n",
              "      <td>Berkeley</td>\n",
              "      <td>CA</td>\n",
              "    </tr>\n",
              "    <tr>\n",
              "      <th>4</th>\n",
              "      <td>22018126</td>\n",
              "      <td>ASSAULT/BATTERY FEL.</td>\n",
              "      <td>04/20/2022 12:00:00 AM</td>\n",
              "      <td>3:31:00 PM</td>\n",
              "      <td>ASSAULT</td>\n",
              "      <td>3</td>\n",
              "      <td>10/13/2022 04:42:00 PM</td>\n",
              "      <td>3000 BLOCK SHATTUCK AVE\\nBerkeley, CA\\n(37.855...</td>\n",
              "      <td>3000 BLOCK SHATTUCK AVE</td>\n",
              "      <td>Berkeley</td>\n",
              "      <td>CA</td>\n",
              "    </tr>\n",
              "  </tbody>\n",
              "</table>\n",
              "</div>\n",
              "    <div class=\"colab-df-buttons\">\n",
              "\n",
              "  <div class=\"colab-df-container\">\n",
              "    <button class=\"colab-df-convert\" onclick=\"convertToInteractive('df-ac5840a3-8e81-48d6-973f-3aab3ef24404')\"\n",
              "            title=\"Convert this dataframe to an interactive table.\"\n",
              "            style=\"display:none;\">\n",
              "\n",
              "  <svg xmlns=\"http://www.w3.org/2000/svg\" height=\"24px\" viewBox=\"0 -960 960 960\">\n",
              "    <path d=\"M120-120v-720h720v720H120Zm60-500h600v-160H180v160Zm220 220h160v-160H400v160Zm0 220h160v-160H400v160ZM180-400h160v-160H180v160Zm440 0h160v-160H620v160ZM180-180h160v-160H180v160Zm440 0h160v-160H620v160Z\"/>\n",
              "  </svg>\n",
              "    </button>\n",
              "\n",
              "  <style>\n",
              "    .colab-df-container {\n",
              "      display:flex;\n",
              "      gap: 12px;\n",
              "    }\n",
              "\n",
              "    .colab-df-convert {\n",
              "      background-color: #E8F0FE;\n",
              "      border: none;\n",
              "      border-radius: 50%;\n",
              "      cursor: pointer;\n",
              "      display: none;\n",
              "      fill: #1967D2;\n",
              "      height: 32px;\n",
              "      padding: 0 0 0 0;\n",
              "      width: 32px;\n",
              "    }\n",
              "\n",
              "    .colab-df-convert:hover {\n",
              "      background-color: #E2EBFA;\n",
              "      box-shadow: 0px 1px 2px rgba(60, 64, 67, 0.3), 0px 1px 3px 1px rgba(60, 64, 67, 0.15);\n",
              "      fill: #174EA6;\n",
              "    }\n",
              "\n",
              "    .colab-df-buttons div {\n",
              "      margin-bottom: 4px;\n",
              "    }\n",
              "\n",
              "    [theme=dark] .colab-df-convert {\n",
              "      background-color: #3B4455;\n",
              "      fill: #D2E3FC;\n",
              "    }\n",
              "\n",
              "    [theme=dark] .colab-df-convert:hover {\n",
              "      background-color: #434B5C;\n",
              "      box-shadow: 0px 1px 3px 1px rgba(0, 0, 0, 0.15);\n",
              "      filter: drop-shadow(0px 1px 2px rgba(0, 0, 0, 0.3));\n",
              "      fill: #FFFFFF;\n",
              "    }\n",
              "  </style>\n",
              "\n",
              "    <script>\n",
              "      const buttonEl =\n",
              "        document.querySelector('#df-ac5840a3-8e81-48d6-973f-3aab3ef24404 button.colab-df-convert');\n",
              "      buttonEl.style.display =\n",
              "        google.colab.kernel.accessAllowed ? 'block' : 'none';\n",
              "\n",
              "      async function convertToInteractive(key) {\n",
              "        const element = document.querySelector('#df-ac5840a3-8e81-48d6-973f-3aab3ef24404');\n",
              "        const dataTable =\n",
              "          await google.colab.kernel.invokeFunction('convertToInteractive',\n",
              "                                                    [key], {});\n",
              "        if (!dataTable) return;\n",
              "\n",
              "        const docLinkHtml = 'Like what you see? Visit the ' +\n",
              "          '<a target=\"_blank\" href=https://colab.research.google.com/notebooks/data_table.ipynb>data table notebook</a>'\n",
              "          + ' to learn more about interactive tables.';\n",
              "        element.innerHTML = '';\n",
              "        dataTable['output_type'] = 'display_data';\n",
              "        await google.colab.output.renderOutput(dataTable, element);\n",
              "        const docLink = document.createElement('div');\n",
              "        docLink.innerHTML = docLinkHtml;\n",
              "        element.appendChild(docLink);\n",
              "      }\n",
              "    </script>\n",
              "  </div>\n",
              "\n",
              "\n",
              "<div id=\"df-5d0f1771-9acb-44b7-9242-27a0c929a53f\">\n",
              "  <button class=\"colab-df-quickchart\" onclick=\"quickchart('df-5d0f1771-9acb-44b7-9242-27a0c929a53f')\"\n",
              "            title=\"Suggest charts\"\n",
              "            style=\"display:none;\">\n",
              "\n",
              "<svg xmlns=\"http://www.w3.org/2000/svg\" height=\"24px\"viewBox=\"0 0 24 24\"\n",
              "     width=\"24px\">\n",
              "    <g>\n",
              "        <path d=\"M19 3H5c-1.1 0-2 .9-2 2v14c0 1.1.9 2 2 2h14c1.1 0 2-.9 2-2V5c0-1.1-.9-2-2-2zM9 17H7v-7h2v7zm4 0h-2V7h2v10zm4 0h-2v-4h2v4z\"/>\n",
              "    </g>\n",
              "</svg>\n",
              "  </button>\n",
              "\n",
              "<style>\n",
              "  .colab-df-quickchart {\n",
              "      --bg-color: #E8F0FE;\n",
              "      --fill-color: #1967D2;\n",
              "      --hover-bg-color: #E2EBFA;\n",
              "      --hover-fill-color: #174EA6;\n",
              "      --disabled-fill-color: #AAA;\n",
              "      --disabled-bg-color: #DDD;\n",
              "  }\n",
              "\n",
              "  [theme=dark] .colab-df-quickchart {\n",
              "      --bg-color: #3B4455;\n",
              "      --fill-color: #D2E3FC;\n",
              "      --hover-bg-color: #434B5C;\n",
              "      --hover-fill-color: #FFFFFF;\n",
              "      --disabled-bg-color: #3B4455;\n",
              "      --disabled-fill-color: #666;\n",
              "  }\n",
              "\n",
              "  .colab-df-quickchart {\n",
              "    background-color: var(--bg-color);\n",
              "    border: none;\n",
              "    border-radius: 50%;\n",
              "    cursor: pointer;\n",
              "    display: none;\n",
              "    fill: var(--fill-color);\n",
              "    height: 32px;\n",
              "    padding: 0;\n",
              "    width: 32px;\n",
              "  }\n",
              "\n",
              "  .colab-df-quickchart:hover {\n",
              "    background-color: var(--hover-bg-color);\n",
              "    box-shadow: 0 1px 2px rgba(60, 64, 67, 0.3), 0 1px 3px 1px rgba(60, 64, 67, 0.15);\n",
              "    fill: var(--button-hover-fill-color);\n",
              "  }\n",
              "\n",
              "  .colab-df-quickchart-complete:disabled,\n",
              "  .colab-df-quickchart-complete:disabled:hover {\n",
              "    background-color: var(--disabled-bg-color);\n",
              "    fill: var(--disabled-fill-color);\n",
              "    box-shadow: none;\n",
              "  }\n",
              "\n",
              "  .colab-df-spinner {\n",
              "    border: 2px solid var(--fill-color);\n",
              "    border-color: transparent;\n",
              "    border-bottom-color: var(--fill-color);\n",
              "    animation:\n",
              "      spin 1s steps(1) infinite;\n",
              "  }\n",
              "\n",
              "  @keyframes spin {\n",
              "    0% {\n",
              "      border-color: transparent;\n",
              "      border-bottom-color: var(--fill-color);\n",
              "      border-left-color: var(--fill-color);\n",
              "    }\n",
              "    20% {\n",
              "      border-color: transparent;\n",
              "      border-left-color: var(--fill-color);\n",
              "      border-top-color: var(--fill-color);\n",
              "    }\n",
              "    30% {\n",
              "      border-color: transparent;\n",
              "      border-left-color: var(--fill-color);\n",
              "      border-top-color: var(--fill-color);\n",
              "      border-right-color: var(--fill-color);\n",
              "    }\n",
              "    40% {\n",
              "      border-color: transparent;\n",
              "      border-right-color: var(--fill-color);\n",
              "      border-top-color: var(--fill-color);\n",
              "    }\n",
              "    60% {\n",
              "      border-color: transparent;\n",
              "      border-right-color: var(--fill-color);\n",
              "    }\n",
              "    80% {\n",
              "      border-color: transparent;\n",
              "      border-right-color: var(--fill-color);\n",
              "      border-bottom-color: var(--fill-color);\n",
              "    }\n",
              "    90% {\n",
              "      border-color: transparent;\n",
              "      border-bottom-color: var(--fill-color);\n",
              "    }\n",
              "  }\n",
              "</style>\n",
              "\n",
              "  <script>\n",
              "    async function quickchart(key) {\n",
              "      const quickchartButtonEl =\n",
              "        document.querySelector('#' + key + ' button');\n",
              "      quickchartButtonEl.disabled = true;  // To prevent multiple clicks.\n",
              "      quickchartButtonEl.classList.add('colab-df-spinner');\n",
              "      try {\n",
              "        const charts = await google.colab.kernel.invokeFunction(\n",
              "            'suggestCharts', [key], {});\n",
              "      } catch (error) {\n",
              "        console.error('Error during call to suggestCharts:', error);\n",
              "      }\n",
              "      quickchartButtonEl.classList.remove('colab-df-spinner');\n",
              "      quickchartButtonEl.classList.add('colab-df-quickchart-complete');\n",
              "    }\n",
              "    (() => {\n",
              "      let quickchartButtonEl =\n",
              "        document.querySelector('#df-5d0f1771-9acb-44b7-9242-27a0c929a53f button');\n",
              "      quickchartButtonEl.style.display =\n",
              "        google.colab.kernel.accessAllowed ? 'block' : 'none';\n",
              "    })();\n",
              "  </script>\n",
              "</div>\n",
              "    </div>\n",
              "  </div>\n"
            ]
          },
          "metadata": {},
          "execution_count": 11
        }
      ],
      "source": [
        "calls = pd.read_csv(calls_file, on_bad_lines=\"warn\")\n",
        "calls.head(5)"
      ]
    },
    {
      "cell_type": "code",
      "execution_count": null,
      "metadata": {
        "id": "rQ33n23R-zCi",
        "colab": {
          "base_uri": "https://localhost:8080/",
          "height": 479
        },
        "outputId": "91de326d-0b46-482b-cd2a-b9e36ca58466"
      },
      "outputs": [
        {
          "output_type": "execute_result",
          "data": {
            "text/plain": [
              "      lea_record_id  person_number             date_of_stop time_of_stop  \\\n",
              "12724           NaN              1  2022-12-30T00:00:00.000        21:30   \n",
              "12725           NaN              1  2022-12-31T00:00:00.000        19:20   \n",
              "12726           NaN              1  2022-12-31T00:00:00.000        00:10   \n",
              "12727           NaN              1  2022-12-31T00:00:00.000        03:08   \n",
              "12728           NaN              1  2022-12-31T00:00:00.000        18:57   \n",
              "\n",
              "       duration_of_stop is_stop_made_in_response type_of_stop  \\\n",
              "12724                10                    false      Vehicle   \n",
              "12725                60                     true   Pedestrian   \n",
              "12726                45                     true   Pedestrian   \n",
              "12727                10                    false      Vehicle   \n",
              "12728                10                    false      Vehicle   \n",
              "\n",
              "                          officer_type_of_assignment  \\\n",
              "12724  Patrol, traffic enforcement, field operations   \n",
              "12725  Patrol, traffic enforcement, field operations   \n",
              "12726  Patrol, traffic enforcement, field operations   \n",
              "12727  Patrol, traffic enforcement, field operations   \n",
              "12728  Patrol, traffic enforcement, field operations   \n",
              "\n",
              "                           location      city is_location_a_k12_public  \\\n",
              "12724    2100 block of Bancroft Way  Berkeley                    false   \n",
              "12725      2600 block of Webster St  Berkeley                    false   \n",
              "12726       2000 block of Ashby Ave  Berkeley                    false   \n",
              "12727    1900 block of Channing Way  Berkeley                    false   \n",
              "12728  1300 block of University Ave  Berkeley                    false   \n",
              "\n",
              "      raceperceivedpriortostop  \\\n",
              "12724                    false   \n",
              "12725                    false   \n",
              "12726                     true   \n",
              "12727                    false   \n",
              "12728                    false   \n",
              "\n",
              "                             perceived_race_or_ethnicity perceived_gender  \\\n",
              "12724  Black/African American|Black/African American|...           Female   \n",
              "12725  Black/African American|Black/African American|...             Male   \n",
              "12726  Black/African American|Black/African American|...             Male   \n",
              "12727  Black/African American|Black/African American|...             Male   \n",
              "12728  Black/African American|Black/African American|...           Female   \n",
              "\n",
              "      perceived_gender_nonconforming is_lgbt  perceived_age  \\\n",
              "12724                          false   false             65   \n",
              "12725                          false   false             50   \n",
              "12726                          false   false             26   \n",
              "12727                          false   false             20   \n",
              "12728                          false   false             80   \n",
              "\n",
              "      person_had_limited_or_no  \\\n",
              "12724                    false   \n",
              "12725                     true   \n",
              "12726                    false   \n",
              "12727                    false   \n",
              "12728                    false   \n",
              "\n",
              "                           perceived_or_known_disability city_of_residence  \\\n",
              "12724  None|None|None|None|None|None|None|None|None|N...        EMERYVILLE   \n",
              "12725  None|None|None|None|None|None|None|None|None|N...          BERKELEY   \n",
              "12726  None|None|None|None|None|None|None|None|None|N...          BERKELEY   \n",
              "12727  None|None|None|None|None|None|None|None|None|N...           OAKLAND   \n",
              "12728  None|None|None|None|None|None|None|None|None|N...     SAN FRANCISCO   \n",
              "\n",
              "            reason_for_stop  \\\n",
              "12724     Traffic Violation   \n",
              "12725  Reasonable suspicion   \n",
              "12726  Reasonable suspicion   \n",
              "12727     Traffic Violation   \n",
              "12728     Traffic Violation   \n",
              "\n",
              "                               reason_for_stop_narrative  \\\n",
              "12724                      Observed subj roll stop sign.   \n",
              "12725  Subj was involved in a domestic violence situa...   \n",
              "12726                   Subject was becoming adversarial   \n",
              "12727                                 No license plates.   \n",
              "12728                                      Ran red light   \n",
              "\n",
              "      traffic_violation_type traffic_violation_offense  \\\n",
              "12724       Moving Violation                       NaN   \n",
              "12725                    NaN                       NaN   \n",
              "12726                    NaN                       NaN   \n",
              "12727    Equipment Violation                       NaN   \n",
              "12728       Moving Violation                       NaN   \n",
              "\n",
              "                                           actions_taken  \\\n",
              "12724  24|5|18|4|24|24|1|19|24|24|24|24|24|24|18|24|5...   \n",
              "12725  24|5|18|4|24|24|1|19|24|24|24|24|24|24|18|24|5...   \n",
              "12726  24|5|18|4|24|24|1|19|24|24|24|24|24|24|18|24|5...   \n",
              "12727  24|5|18|4|24|24|1|19|24|24|24|24|24|24|18|24|5...   \n",
              "12728  24|5|18|4|24|24|1|19|24|24|24|24|24|24|18|24|5...   \n",
              "\n",
              "      citation_offense_codes  \\\n",
              "12724                    NaN   \n",
              "12725                    NaN   \n",
              "12726                    NaN   \n",
              "12727                    NaN   \n",
              "12728                    NaN   \n",
              "\n",
              "                                          result_of_stop        lat  \\\n",
              "12724  Custodial arrest pursuant to outstanding warra...  37.867631   \n",
              "12725  Custodial arrest pursuant to outstanding warra...  37.856027   \n",
              "12726  Custodial arrest pursuant to outstanding warra...  37.855193   \n",
              "12727  Custodial arrest pursuant to outstanding warra...  37.865283   \n",
              "12728  Custodial arrest pursuant to outstanding warra...  37.870012   \n",
              "\n",
              "             long suspicion_offense_code  \\\n",
              "12724 -122.266740                    NaN   \n",
              "12725 -122.254671                    NaN   \n",
              "12726 -122.267246                    NaN   \n",
              "12727 -122.271230                    NaN   \n",
              "12728 -122.285661                    NaN   \n",
              "\n",
              "                                       suspicion_subtype  \\\n",
              "12724  Matched suspect description|Matched suspect de...   \n",
              "12725  Matched suspect description|Matched suspect de...   \n",
              "12726  Matched suspect description|Matched suspect de...   \n",
              "12727  Matched suspect description|Matched suspect de...   \n",
              "12728  Matched suspect description|Matched suspect de...   \n",
              "\n",
              "                                        basis_for_search  \\\n",
              "12724  Incident to arrest|Officer safety/safety of ot...   \n",
              "12725  Incident to arrest|Officer safety/safety of ot...   \n",
              "12726  Incident to arrest|Officer safety/safety of ot...   \n",
              "12727  Incident to arrest|Officer safety/safety of ot...   \n",
              "12728  Incident to arrest|Officer safety/safety of ot...   \n",
              "\n",
              "      basis_for_search_narrative warning_offense_codes  \\\n",
              "12724                        NaN                   NaN   \n",
              "12725                        NaN                   NaN   \n",
              "12726                        NaN                   NaN   \n",
              "12727                        NaN                   NaN   \n",
              "12728                        NaN                   NaN   \n",
              "\n",
              "      custodial_arrest_offense in_field_cite_and_release  \\\n",
              "12724                      NaN                       NaN   \n",
              "12725                      NaN                       NaN   \n",
              "12726                      NaN                       NaN   \n",
              "12727                      NaN                       NaN   \n",
              "12728                      NaN                       NaN   \n",
              "\n",
              "      other_contraband_desc  \\\n",
              "12724                   NaN   \n",
              "12725                   NaN   \n",
              "12726                   NaN   \n",
              "12727                   NaN   \n",
              "12728                   NaN   \n",
              "\n",
              "                              basis_for_property_seizure  \\\n",
              "12724  Evidence|Safekeeping as allowed by law/statute...   \n",
              "12725  Evidence|Safekeeping as allowed by law/statute...   \n",
              "12726  Evidence|Safekeeping as allowed by law/statute...   \n",
              "12727  Evidence|Safekeeping as allowed by law/statute...   \n",
              "12728  Evidence|Safekeeping as allowed by law/statute...   \n",
              "\n",
              "                                 type_of_property_seized  \\\n",
              "12724  Suspected stolen property| Other contraband or...   \n",
              "12725  Suspected stolen property| Other contraband or...   \n",
              "12726  Suspected stolen property| Other contraband or...   \n",
              "12727  Suspected stolen property| Other contraband or...   \n",
              "12728  Suspected stolen property| Other contraband or...   \n",
              "\n",
              "      if_k12_school_is_stop_of school_name information_based_stop  \n",
              "12724                      NaN         NaN                    yes  \n",
              "12725                      NaN         NaN                    yes  \n",
              "12726                      NaN         NaN                     no  \n",
              "12727                      NaN         NaN                    yes  \n",
              "12728                      NaN         NaN                     no  "
            ],
            "text/html": [
              "\n",
              "  <div id=\"df-75af9645-238c-4839-93e1-608186a329ae\" class=\"colab-df-container\">\n",
              "    <div>\n",
              "<style scoped>\n",
              "    .dataframe tbody tr th:only-of-type {\n",
              "        vertical-align: middle;\n",
              "    }\n",
              "\n",
              "    .dataframe tbody tr th {\n",
              "        vertical-align: top;\n",
              "    }\n",
              "\n",
              "    .dataframe thead th {\n",
              "        text-align: right;\n",
              "    }\n",
              "</style>\n",
              "<table border=\"1\" class=\"dataframe\">\n",
              "  <thead>\n",
              "    <tr style=\"text-align: right;\">\n",
              "      <th></th>\n",
              "      <th>lea_record_id</th>\n",
              "      <th>person_number</th>\n",
              "      <th>date_of_stop</th>\n",
              "      <th>time_of_stop</th>\n",
              "      <th>duration_of_stop</th>\n",
              "      <th>is_stop_made_in_response</th>\n",
              "      <th>type_of_stop</th>\n",
              "      <th>officer_type_of_assignment</th>\n",
              "      <th>location</th>\n",
              "      <th>city</th>\n",
              "      <th>is_location_a_k12_public</th>\n",
              "      <th>raceperceivedpriortostop</th>\n",
              "      <th>perceived_race_or_ethnicity</th>\n",
              "      <th>perceived_gender</th>\n",
              "      <th>perceived_gender_nonconforming</th>\n",
              "      <th>is_lgbt</th>\n",
              "      <th>perceived_age</th>\n",
              "      <th>person_had_limited_or_no</th>\n",
              "      <th>perceived_or_known_disability</th>\n",
              "      <th>city_of_residence</th>\n",
              "      <th>reason_for_stop</th>\n",
              "      <th>reason_for_stop_narrative</th>\n",
              "      <th>traffic_violation_type</th>\n",
              "      <th>traffic_violation_offense</th>\n",
              "      <th>actions_taken</th>\n",
              "      <th>citation_offense_codes</th>\n",
              "      <th>result_of_stop</th>\n",
              "      <th>lat</th>\n",
              "      <th>long</th>\n",
              "      <th>suspicion_offense_code</th>\n",
              "      <th>suspicion_subtype</th>\n",
              "      <th>basis_for_search</th>\n",
              "      <th>basis_for_search_narrative</th>\n",
              "      <th>warning_offense_codes</th>\n",
              "      <th>custodial_arrest_offense</th>\n",
              "      <th>in_field_cite_and_release</th>\n",
              "      <th>other_contraband_desc</th>\n",
              "      <th>basis_for_property_seizure</th>\n",
              "      <th>type_of_property_seized</th>\n",
              "      <th>if_k12_school_is_stop_of</th>\n",
              "      <th>school_name</th>\n",
              "      <th>information_based_stop</th>\n",
              "    </tr>\n",
              "  </thead>\n",
              "  <tbody>\n",
              "    <tr>\n",
              "      <th>12724</th>\n",
              "      <td>NaN</td>\n",
              "      <td>1</td>\n",
              "      <td>2022-12-30T00:00:00.000</td>\n",
              "      <td>21:30</td>\n",
              "      <td>10</td>\n",
              "      <td>false</td>\n",
              "      <td>Vehicle</td>\n",
              "      <td>Patrol, traffic enforcement, field operations</td>\n",
              "      <td>2100 block of Bancroft Way</td>\n",
              "      <td>Berkeley</td>\n",
              "      <td>false</td>\n",
              "      <td>false</td>\n",
              "      <td>Black/African American|Black/African American|...</td>\n",
              "      <td>Female</td>\n",
              "      <td>false</td>\n",
              "      <td>false</td>\n",
              "      <td>65</td>\n",
              "      <td>false</td>\n",
              "      <td>None|None|None|None|None|None|None|None|None|N...</td>\n",
              "      <td>EMERYVILLE</td>\n",
              "      <td>Traffic Violation</td>\n",
              "      <td>Observed subj roll stop sign.</td>\n",
              "      <td>Moving Violation</td>\n",
              "      <td>NaN</td>\n",
              "      <td>24|5|18|4|24|24|1|19|24|24|24|24|24|24|18|24|5...</td>\n",
              "      <td>NaN</td>\n",
              "      <td>Custodial arrest pursuant to outstanding warra...</td>\n",
              "      <td>37.867631</td>\n",
              "      <td>-122.266740</td>\n",
              "      <td>NaN</td>\n",
              "      <td>Matched suspect description|Matched suspect de...</td>\n",
              "      <td>Incident to arrest|Officer safety/safety of ot...</td>\n",
              "      <td>NaN</td>\n",
              "      <td>NaN</td>\n",
              "      <td>NaN</td>\n",
              "      <td>NaN</td>\n",
              "      <td>NaN</td>\n",
              "      <td>Evidence|Safekeeping as allowed by law/statute...</td>\n",
              "      <td>Suspected stolen property| Other contraband or...</td>\n",
              "      <td>NaN</td>\n",
              "      <td>NaN</td>\n",
              "      <td>yes</td>\n",
              "    </tr>\n",
              "    <tr>\n",
              "      <th>12725</th>\n",
              "      <td>NaN</td>\n",
              "      <td>1</td>\n",
              "      <td>2022-12-31T00:00:00.000</td>\n",
              "      <td>19:20</td>\n",
              "      <td>60</td>\n",
              "      <td>true</td>\n",
              "      <td>Pedestrian</td>\n",
              "      <td>Patrol, traffic enforcement, field operations</td>\n",
              "      <td>2600 block of Webster St</td>\n",
              "      <td>Berkeley</td>\n",
              "      <td>false</td>\n",
              "      <td>false</td>\n",
              "      <td>Black/African American|Black/African American|...</td>\n",
              "      <td>Male</td>\n",
              "      <td>false</td>\n",
              "      <td>false</td>\n",
              "      <td>50</td>\n",
              "      <td>true</td>\n",
              "      <td>None|None|None|None|None|None|None|None|None|N...</td>\n",
              "      <td>BERKELEY</td>\n",
              "      <td>Reasonable suspicion</td>\n",
              "      <td>Subj was involved in a domestic violence situa...</td>\n",
              "      <td>NaN</td>\n",
              "      <td>NaN</td>\n",
              "      <td>24|5|18|4|24|24|1|19|24|24|24|24|24|24|18|24|5...</td>\n",
              "      <td>NaN</td>\n",
              "      <td>Custodial arrest pursuant to outstanding warra...</td>\n",
              "      <td>37.856027</td>\n",
              "      <td>-122.254671</td>\n",
              "      <td>NaN</td>\n",
              "      <td>Matched suspect description|Matched suspect de...</td>\n",
              "      <td>Incident to arrest|Officer safety/safety of ot...</td>\n",
              "      <td>NaN</td>\n",
              "      <td>NaN</td>\n",
              "      <td>NaN</td>\n",
              "      <td>NaN</td>\n",
              "      <td>NaN</td>\n",
              "      <td>Evidence|Safekeeping as allowed by law/statute...</td>\n",
              "      <td>Suspected stolen property| Other contraband or...</td>\n",
              "      <td>NaN</td>\n",
              "      <td>NaN</td>\n",
              "      <td>yes</td>\n",
              "    </tr>\n",
              "    <tr>\n",
              "      <th>12726</th>\n",
              "      <td>NaN</td>\n",
              "      <td>1</td>\n",
              "      <td>2022-12-31T00:00:00.000</td>\n",
              "      <td>00:10</td>\n",
              "      <td>45</td>\n",
              "      <td>true</td>\n",
              "      <td>Pedestrian</td>\n",
              "      <td>Patrol, traffic enforcement, field operations</td>\n",
              "      <td>2000 block of Ashby Ave</td>\n",
              "      <td>Berkeley</td>\n",
              "      <td>false</td>\n",
              "      <td>true</td>\n",
              "      <td>Black/African American|Black/African American|...</td>\n",
              "      <td>Male</td>\n",
              "      <td>false</td>\n",
              "      <td>false</td>\n",
              "      <td>26</td>\n",
              "      <td>false</td>\n",
              "      <td>None|None|None|None|None|None|None|None|None|N...</td>\n",
              "      <td>BERKELEY</td>\n",
              "      <td>Reasonable suspicion</td>\n",
              "      <td>Subject was becoming adversarial</td>\n",
              "      <td>NaN</td>\n",
              "      <td>NaN</td>\n",
              "      <td>24|5|18|4|24|24|1|19|24|24|24|24|24|24|18|24|5...</td>\n",
              "      <td>NaN</td>\n",
              "      <td>Custodial arrest pursuant to outstanding warra...</td>\n",
              "      <td>37.855193</td>\n",
              "      <td>-122.267246</td>\n",
              "      <td>NaN</td>\n",
              "      <td>Matched suspect description|Matched suspect de...</td>\n",
              "      <td>Incident to arrest|Officer safety/safety of ot...</td>\n",
              "      <td>NaN</td>\n",
              "      <td>NaN</td>\n",
              "      <td>NaN</td>\n",
              "      <td>NaN</td>\n",
              "      <td>NaN</td>\n",
              "      <td>Evidence|Safekeeping as allowed by law/statute...</td>\n",
              "      <td>Suspected stolen property| Other contraband or...</td>\n",
              "      <td>NaN</td>\n",
              "      <td>NaN</td>\n",
              "      <td>no</td>\n",
              "    </tr>\n",
              "    <tr>\n",
              "      <th>12727</th>\n",
              "      <td>NaN</td>\n",
              "      <td>1</td>\n",
              "      <td>2022-12-31T00:00:00.000</td>\n",
              "      <td>03:08</td>\n",
              "      <td>10</td>\n",
              "      <td>false</td>\n",
              "      <td>Vehicle</td>\n",
              "      <td>Patrol, traffic enforcement, field operations</td>\n",
              "      <td>1900 block of Channing Way</td>\n",
              "      <td>Berkeley</td>\n",
              "      <td>false</td>\n",
              "      <td>false</td>\n",
              "      <td>Black/African American|Black/African American|...</td>\n",
              "      <td>Male</td>\n",
              "      <td>false</td>\n",
              "      <td>false</td>\n",
              "      <td>20</td>\n",
              "      <td>false</td>\n",
              "      <td>None|None|None|None|None|None|None|None|None|N...</td>\n",
              "      <td>OAKLAND</td>\n",
              "      <td>Traffic Violation</td>\n",
              "      <td>No license plates.</td>\n",
              "      <td>Equipment Violation</td>\n",
              "      <td>NaN</td>\n",
              "      <td>24|5|18|4|24|24|1|19|24|24|24|24|24|24|18|24|5...</td>\n",
              "      <td>NaN</td>\n",
              "      <td>Custodial arrest pursuant to outstanding warra...</td>\n",
              "      <td>37.865283</td>\n",
              "      <td>-122.271230</td>\n",
              "      <td>NaN</td>\n",
              "      <td>Matched suspect description|Matched suspect de...</td>\n",
              "      <td>Incident to arrest|Officer safety/safety of ot...</td>\n",
              "      <td>NaN</td>\n",
              "      <td>NaN</td>\n",
              "      <td>NaN</td>\n",
              "      <td>NaN</td>\n",
              "      <td>NaN</td>\n",
              "      <td>Evidence|Safekeeping as allowed by law/statute...</td>\n",
              "      <td>Suspected stolen property| Other contraband or...</td>\n",
              "      <td>NaN</td>\n",
              "      <td>NaN</td>\n",
              "      <td>yes</td>\n",
              "    </tr>\n",
              "    <tr>\n",
              "      <th>12728</th>\n",
              "      <td>NaN</td>\n",
              "      <td>1</td>\n",
              "      <td>2022-12-31T00:00:00.000</td>\n",
              "      <td>18:57</td>\n",
              "      <td>10</td>\n",
              "      <td>false</td>\n",
              "      <td>Vehicle</td>\n",
              "      <td>Patrol, traffic enforcement, field operations</td>\n",
              "      <td>1300 block of University Ave</td>\n",
              "      <td>Berkeley</td>\n",
              "      <td>false</td>\n",
              "      <td>false</td>\n",
              "      <td>Black/African American|Black/African American|...</td>\n",
              "      <td>Female</td>\n",
              "      <td>false</td>\n",
              "      <td>false</td>\n",
              "      <td>80</td>\n",
              "      <td>false</td>\n",
              "      <td>None|None|None|None|None|None|None|None|None|N...</td>\n",
              "      <td>SAN FRANCISCO</td>\n",
              "      <td>Traffic Violation</td>\n",
              "      <td>Ran red light</td>\n",
              "      <td>Moving Violation</td>\n",
              "      <td>NaN</td>\n",
              "      <td>24|5|18|4|24|24|1|19|24|24|24|24|24|24|18|24|5...</td>\n",
              "      <td>NaN</td>\n",
              "      <td>Custodial arrest pursuant to outstanding warra...</td>\n",
              "      <td>37.870012</td>\n",
              "      <td>-122.285661</td>\n",
              "      <td>NaN</td>\n",
              "      <td>Matched suspect description|Matched suspect de...</td>\n",
              "      <td>Incident to arrest|Officer safety/safety of ot...</td>\n",
              "      <td>NaN</td>\n",
              "      <td>NaN</td>\n",
              "      <td>NaN</td>\n",
              "      <td>NaN</td>\n",
              "      <td>NaN</td>\n",
              "      <td>Evidence|Safekeeping as allowed by law/statute...</td>\n",
              "      <td>Suspected stolen property| Other contraband or...</td>\n",
              "      <td>NaN</td>\n",
              "      <td>NaN</td>\n",
              "      <td>no</td>\n",
              "    </tr>\n",
              "  </tbody>\n",
              "</table>\n",
              "</div>\n",
              "    <div class=\"colab-df-buttons\">\n",
              "\n",
              "  <div class=\"colab-df-container\">\n",
              "    <button class=\"colab-df-convert\" onclick=\"convertToInteractive('df-75af9645-238c-4839-93e1-608186a329ae')\"\n",
              "            title=\"Convert this dataframe to an interactive table.\"\n",
              "            style=\"display:none;\">\n",
              "\n",
              "  <svg xmlns=\"http://www.w3.org/2000/svg\" height=\"24px\" viewBox=\"0 -960 960 960\">\n",
              "    <path d=\"M120-120v-720h720v720H120Zm60-500h600v-160H180v160Zm220 220h160v-160H400v160Zm0 220h160v-160H400v160ZM180-400h160v-160H180v160Zm440 0h160v-160H620v160ZM180-180h160v-160H180v160Zm440 0h160v-160H620v160Z\"/>\n",
              "  </svg>\n",
              "    </button>\n",
              "\n",
              "  <style>\n",
              "    .colab-df-container {\n",
              "      display:flex;\n",
              "      gap: 12px;\n",
              "    }\n",
              "\n",
              "    .colab-df-convert {\n",
              "      background-color: #E8F0FE;\n",
              "      border: none;\n",
              "      border-radius: 50%;\n",
              "      cursor: pointer;\n",
              "      display: none;\n",
              "      fill: #1967D2;\n",
              "      height: 32px;\n",
              "      padding: 0 0 0 0;\n",
              "      width: 32px;\n",
              "    }\n",
              "\n",
              "    .colab-df-convert:hover {\n",
              "      background-color: #E2EBFA;\n",
              "      box-shadow: 0px 1px 2px rgba(60, 64, 67, 0.3), 0px 1px 3px 1px rgba(60, 64, 67, 0.15);\n",
              "      fill: #174EA6;\n",
              "    }\n",
              "\n",
              "    .colab-df-buttons div {\n",
              "      margin-bottom: 4px;\n",
              "    }\n",
              "\n",
              "    [theme=dark] .colab-df-convert {\n",
              "      background-color: #3B4455;\n",
              "      fill: #D2E3FC;\n",
              "    }\n",
              "\n",
              "    [theme=dark] .colab-df-convert:hover {\n",
              "      background-color: #434B5C;\n",
              "      box-shadow: 0px 1px 3px 1px rgba(0, 0, 0, 0.15);\n",
              "      filter: drop-shadow(0px 1px 2px rgba(0, 0, 0, 0.3));\n",
              "      fill: #FFFFFF;\n",
              "    }\n",
              "  </style>\n",
              "\n",
              "    <script>\n",
              "      const buttonEl =\n",
              "        document.querySelector('#df-75af9645-238c-4839-93e1-608186a329ae button.colab-df-convert');\n",
              "      buttonEl.style.display =\n",
              "        google.colab.kernel.accessAllowed ? 'block' : 'none';\n",
              "\n",
              "      async function convertToInteractive(key) {\n",
              "        const element = document.querySelector('#df-75af9645-238c-4839-93e1-608186a329ae');\n",
              "        const dataTable =\n",
              "          await google.colab.kernel.invokeFunction('convertToInteractive',\n",
              "                                                    [key], {});\n",
              "        if (!dataTable) return;\n",
              "\n",
              "        const docLinkHtml = 'Like what you see? Visit the ' +\n",
              "          '<a target=\"_blank\" href=https://colab.research.google.com/notebooks/data_table.ipynb>data table notebook</a>'\n",
              "          + ' to learn more about interactive tables.';\n",
              "        element.innerHTML = '';\n",
              "        dataTable['output_type'] = 'display_data';\n",
              "        await google.colab.output.renderOutput(dataTable, element);\n",
              "        const docLink = document.createElement('div');\n",
              "        docLink.innerHTML = docLinkHtml;\n",
              "        element.appendChild(docLink);\n",
              "      }\n",
              "    </script>\n",
              "  </div>\n",
              "\n",
              "\n",
              "<div id=\"df-94b3f339-a329-4cfc-bf4b-df29e0eb7cbb\">\n",
              "  <button class=\"colab-df-quickchart\" onclick=\"quickchart('df-94b3f339-a329-4cfc-bf4b-df29e0eb7cbb')\"\n",
              "            title=\"Suggest charts\"\n",
              "            style=\"display:none;\">\n",
              "\n",
              "<svg xmlns=\"http://www.w3.org/2000/svg\" height=\"24px\"viewBox=\"0 0 24 24\"\n",
              "     width=\"24px\">\n",
              "    <g>\n",
              "        <path d=\"M19 3H5c-1.1 0-2 .9-2 2v14c0 1.1.9 2 2 2h14c1.1 0 2-.9 2-2V5c0-1.1-.9-2-2-2zM9 17H7v-7h2v7zm4 0h-2V7h2v10zm4 0h-2v-4h2v4z\"/>\n",
              "    </g>\n",
              "</svg>\n",
              "  </button>\n",
              "\n",
              "<style>\n",
              "  .colab-df-quickchart {\n",
              "      --bg-color: #E8F0FE;\n",
              "      --fill-color: #1967D2;\n",
              "      --hover-bg-color: #E2EBFA;\n",
              "      --hover-fill-color: #174EA6;\n",
              "      --disabled-fill-color: #AAA;\n",
              "      --disabled-bg-color: #DDD;\n",
              "  }\n",
              "\n",
              "  [theme=dark] .colab-df-quickchart {\n",
              "      --bg-color: #3B4455;\n",
              "      --fill-color: #D2E3FC;\n",
              "      --hover-bg-color: #434B5C;\n",
              "      --hover-fill-color: #FFFFFF;\n",
              "      --disabled-bg-color: #3B4455;\n",
              "      --disabled-fill-color: #666;\n",
              "  }\n",
              "\n",
              "  .colab-df-quickchart {\n",
              "    background-color: var(--bg-color);\n",
              "    border: none;\n",
              "    border-radius: 50%;\n",
              "    cursor: pointer;\n",
              "    display: none;\n",
              "    fill: var(--fill-color);\n",
              "    height: 32px;\n",
              "    padding: 0;\n",
              "    width: 32px;\n",
              "  }\n",
              "\n",
              "  .colab-df-quickchart:hover {\n",
              "    background-color: var(--hover-bg-color);\n",
              "    box-shadow: 0 1px 2px rgba(60, 64, 67, 0.3), 0 1px 3px 1px rgba(60, 64, 67, 0.15);\n",
              "    fill: var(--button-hover-fill-color);\n",
              "  }\n",
              "\n",
              "  .colab-df-quickchart-complete:disabled,\n",
              "  .colab-df-quickchart-complete:disabled:hover {\n",
              "    background-color: var(--disabled-bg-color);\n",
              "    fill: var(--disabled-fill-color);\n",
              "    box-shadow: none;\n",
              "  }\n",
              "\n",
              "  .colab-df-spinner {\n",
              "    border: 2px solid var(--fill-color);\n",
              "    border-color: transparent;\n",
              "    border-bottom-color: var(--fill-color);\n",
              "    animation:\n",
              "      spin 1s steps(1) infinite;\n",
              "  }\n",
              "\n",
              "  @keyframes spin {\n",
              "    0% {\n",
              "      border-color: transparent;\n",
              "      border-bottom-color: var(--fill-color);\n",
              "      border-left-color: var(--fill-color);\n",
              "    }\n",
              "    20% {\n",
              "      border-color: transparent;\n",
              "      border-left-color: var(--fill-color);\n",
              "      border-top-color: var(--fill-color);\n",
              "    }\n",
              "    30% {\n",
              "      border-color: transparent;\n",
              "      border-left-color: var(--fill-color);\n",
              "      border-top-color: var(--fill-color);\n",
              "      border-right-color: var(--fill-color);\n",
              "    }\n",
              "    40% {\n",
              "      border-color: transparent;\n",
              "      border-right-color: var(--fill-color);\n",
              "      border-top-color: var(--fill-color);\n",
              "    }\n",
              "    60% {\n",
              "      border-color: transparent;\n",
              "      border-right-color: var(--fill-color);\n",
              "    }\n",
              "    80% {\n",
              "      border-color: transparent;\n",
              "      border-right-color: var(--fill-color);\n",
              "      border-bottom-color: var(--fill-color);\n",
              "    }\n",
              "    90% {\n",
              "      border-color: transparent;\n",
              "      border-bottom-color: var(--fill-color);\n",
              "    }\n",
              "  }\n",
              "</style>\n",
              "\n",
              "  <script>\n",
              "    async function quickchart(key) {\n",
              "      const quickchartButtonEl =\n",
              "        document.querySelector('#' + key + ' button');\n",
              "      quickchartButtonEl.disabled = true;  // To prevent multiple clicks.\n",
              "      quickchartButtonEl.classList.add('colab-df-spinner');\n",
              "      try {\n",
              "        const charts = await google.colab.kernel.invokeFunction(\n",
              "            'suggestCharts', [key], {});\n",
              "      } catch (error) {\n",
              "        console.error('Error during call to suggestCharts:', error);\n",
              "      }\n",
              "      quickchartButtonEl.classList.remove('colab-df-spinner');\n",
              "      quickchartButtonEl.classList.add('colab-df-quickchart-complete');\n",
              "    }\n",
              "    (() => {\n",
              "      let quickchartButtonEl =\n",
              "        document.querySelector('#df-94b3f339-a329-4cfc-bf4b-df29e0eb7cbb button');\n",
              "      quickchartButtonEl.style.display =\n",
              "        google.colab.kernel.accessAllowed ? 'block' : 'none';\n",
              "    })();\n",
              "  </script>\n",
              "</div>\n",
              "    </div>\n",
              "  </div>\n"
            ]
          },
          "metadata": {},
          "execution_count": 12
        }
      ],
      "source": [
        "stops = pd.read_json(stops_file)\n",
        "stops.tail(5)"
      ]
    },
    {
      "cell_type": "markdown",
      "metadata": {
        "id": "_6H_SNB0-zCj"
      },
      "source": [
        "Looking more into the structure:"
      ]
    },
    {
      "cell_type": "code",
      "execution_count": null,
      "metadata": {
        "ExecuteTime": {
          "end_time": "2018-02-02T15:15:19.122345Z",
          "start_time": "2018-02-02T15:15:19.118071Z"
        },
        "id": "GDFJ9mdU-zCj",
        "colab": {
          "base_uri": "https://localhost:8080/"
        },
        "outputId": "558e897c-f638-42e5-9e9f-a55fc70d8dd6"
      },
      "outputs": [
        {
          "output_type": "execute_result",
          "data": {
            "text/plain": [
              "(4490, 11)"
            ]
          },
          "metadata": {},
          "execution_count": 13
        }
      ],
      "source": [
        "calls.shape"
      ]
    },
    {
      "cell_type": "code",
      "execution_count": null,
      "metadata": {
        "id": "aZaPoAwl-zCj",
        "colab": {
          "base_uri": "https://localhost:8080/"
        },
        "outputId": "d6743af9-df1c-4a38-e0c5-11a5f65d2e4d"
      },
      "outputs": [
        {
          "output_type": "execute_result",
          "data": {
            "text/plain": [
              "(12729, 42)"
            ]
          },
          "metadata": {},
          "execution_count": 14
        }
      ],
      "source": [
        "stops.shape"
      ]
    },
    {
      "cell_type": "code",
      "execution_count": null,
      "metadata": {
        "id": "AL2_FJ8P-zCj",
        "colab": {
          "base_uri": "https://localhost:8080/"
        },
        "outputId": "5f697e8c-d3d0-4695-c966-7db2643f66e0"
      },
      "outputs": [
        {
          "output_type": "execute_result",
          "data": {
            "text/plain": [
              "Index(['CASENO', 'OFFENSE', 'EVENTDT', 'EVENTTM', 'CVLEGEND', 'CVDOW',\n",
              "       'InDbDate', 'Block_Location', 'BLKADDR', 'City', 'State'],\n",
              "      dtype='object')"
            ]
          },
          "metadata": {},
          "execution_count": 15
        }
      ],
      "source": [
        "calls.columns"
      ]
    },
    {
      "cell_type": "code",
      "execution_count": null,
      "metadata": {
        "id": "8Pz3Tol_-zCk",
        "colab": {
          "base_uri": "https://localhost:8080/"
        },
        "outputId": "1c62a9e3-40e3-487f-af0c-37abb383be20"
      },
      "outputs": [
        {
          "output_type": "execute_result",
          "data": {
            "text/plain": [
              "Index(['lea_record_id', 'person_number', 'date_of_stop', 'time_of_stop',\n",
              "       'duration_of_stop', 'is_stop_made_in_response', 'type_of_stop',\n",
              "       'officer_type_of_assignment', 'location', 'city',\n",
              "       'is_location_a_k12_public', 'raceperceivedpriortostop',\n",
              "       'perceived_race_or_ethnicity', 'perceived_gender',\n",
              "       'perceived_gender_nonconforming', 'is_lgbt', 'perceived_age',\n",
              "       'person_had_limited_or_no', 'perceived_or_known_disability',\n",
              "       'city_of_residence', 'reason_for_stop', 'reason_for_stop_narrative',\n",
              "       'traffic_violation_type', 'traffic_violation_offense', 'actions_taken',\n",
              "       'citation_offense_codes', 'result_of_stop', 'lat', 'long',\n",
              "       'suspicion_offense_code', 'suspicion_subtype', 'basis_for_search',\n",
              "       'basis_for_search_narrative', 'warning_offense_codes',\n",
              "       'custodial_arrest_offense', 'in_field_cite_and_release',\n",
              "       'other_contraband_desc', 'basis_for_property_seizure',\n",
              "       'type_of_property_seized', 'if_k12_school_is_stop_of', 'school_name',\n",
              "       'information_based_stop'],\n",
              "      dtype='object')"
            ]
          },
          "metadata": {},
          "execution_count": 16
        }
      ],
      "source": [
        "stops.columns"
      ]
    },
    {
      "cell_type": "markdown",
      "metadata": {
        "tags": [],
        "id": "PtgEZtFp-zCk"
      },
      "source": [
        "<br><br><br><br>\n",
        "\n",
        "\n",
        "---\n",
        "\n",
        "\n",
        "# EDA on Calls Data\n",
        "\n",
        "Often the first step of EDA is addressing any obvious issues with the data:\n"
      ]
    },
    {
      "cell_type": "code",
      "execution_count": null,
      "metadata": {
        "id": "SpP1l8r8-zCk",
        "colab": {
          "base_uri": "https://localhost:8080/",
          "height": 289
        },
        "outputId": "35b553e4-5456-41c7-aeab-e9fecc4b431b"
      },
      "outputs": [
        {
          "output_type": "execute_result",
          "data": {
            "text/plain": [
              "     CASENO               OFFENSE                 EVENTDT     EVENTTM  \\\n",
              "0  22036516       THEFT FROM AUTO  08/10/2022 12:00:00 AM  6:10:00 AM   \n",
              "1  22027674  BURGLARY RESIDENTIAL  06/16/2022 12:00:00 AM  8:25:00 PM   \n",
              "2  22023993             VANDALISM  05/25/2022 12:00:00 AM  8:00:00 AM   \n",
              "3  22026547           DISTURBANCE  06/10/2022 12:00:00 AM  9:35:00 PM   \n",
              "4  22018126  ASSAULT/BATTERY FEL.  04/20/2022 12:00:00 AM  3:31:00 PM   \n",
              "\n",
              "                 CVLEGEND  CVDOW                InDbDate  \\\n",
              "0  LARCENY - FROM VEHICLE      3  10/13/2022 04:42:00 PM   \n",
              "1  BURGLARY - RESIDENTIAL      4  10/13/2022 04:42:00 PM   \n",
              "2               VANDALISM      3  10/13/2022 04:42:00 PM   \n",
              "3      DISORDERLY CONDUCT      5  10/13/2022 04:42:00 PM   \n",
              "4                 ASSAULT      3  10/13/2022 04:42:00 PM   \n",
              "\n",
              "                                      Block_Location                  BLKADDR  \\\n",
              "0               Berkeley, CA\\n(37.86988, -122.27054)                      NaN   \n",
              "1  1700 BLOCK OXFORD ST\\nBerkeley, CA\\n(37.87674,...     1700 BLOCK OXFORD ST   \n",
              "2  2400 BLOCK 8TH ST\\nBerkeley, CA\\n(37.86206, -1...        2400 BLOCK 8TH ST   \n",
              "3  1300 BLOCK HEARST AVE\\nBerkeley, CA\\n(37.87133...    1300 BLOCK HEARST AVE   \n",
              "4  3000 BLOCK SHATTUCK AVE\\nBerkeley, CA\\n(37.855...  3000 BLOCK SHATTUCK AVE   \n",
              "\n",
              "       City State  \n",
              "0  Berkeley    CA  \n",
              "1  Berkeley    CA  \n",
              "2  Berkeley    CA  \n",
              "3  Berkeley    CA  \n",
              "4  Berkeley    CA  "
            ],
            "text/html": [
              "\n",
              "  <div id=\"df-16211b34-cd1c-4176-b1e7-69eb52e3a436\" class=\"colab-df-container\">\n",
              "    <div>\n",
              "<style scoped>\n",
              "    .dataframe tbody tr th:only-of-type {\n",
              "        vertical-align: middle;\n",
              "    }\n",
              "\n",
              "    .dataframe tbody tr th {\n",
              "        vertical-align: top;\n",
              "    }\n",
              "\n",
              "    .dataframe thead th {\n",
              "        text-align: right;\n",
              "    }\n",
              "</style>\n",
              "<table border=\"1\" class=\"dataframe\">\n",
              "  <thead>\n",
              "    <tr style=\"text-align: right;\">\n",
              "      <th></th>\n",
              "      <th>CASENO</th>\n",
              "      <th>OFFENSE</th>\n",
              "      <th>EVENTDT</th>\n",
              "      <th>EVENTTM</th>\n",
              "      <th>CVLEGEND</th>\n",
              "      <th>CVDOW</th>\n",
              "      <th>InDbDate</th>\n",
              "      <th>Block_Location</th>\n",
              "      <th>BLKADDR</th>\n",
              "      <th>City</th>\n",
              "      <th>State</th>\n",
              "    </tr>\n",
              "  </thead>\n",
              "  <tbody>\n",
              "    <tr>\n",
              "      <th>0</th>\n",
              "      <td>22036516</td>\n",
              "      <td>THEFT FROM AUTO</td>\n",
              "      <td>08/10/2022 12:00:00 AM</td>\n",
              "      <td>6:10:00 AM</td>\n",
              "      <td>LARCENY - FROM VEHICLE</td>\n",
              "      <td>3</td>\n",
              "      <td>10/13/2022 04:42:00 PM</td>\n",
              "      <td>Berkeley, CA\\n(37.86988, -122.27054)</td>\n",
              "      <td>NaN</td>\n",
              "      <td>Berkeley</td>\n",
              "      <td>CA</td>\n",
              "    </tr>\n",
              "    <tr>\n",
              "      <th>1</th>\n",
              "      <td>22027674</td>\n",
              "      <td>BURGLARY RESIDENTIAL</td>\n",
              "      <td>06/16/2022 12:00:00 AM</td>\n",
              "      <td>8:25:00 PM</td>\n",
              "      <td>BURGLARY - RESIDENTIAL</td>\n",
              "      <td>4</td>\n",
              "      <td>10/13/2022 04:42:00 PM</td>\n",
              "      <td>1700 BLOCK OXFORD ST\\nBerkeley, CA\\n(37.87674,...</td>\n",
              "      <td>1700 BLOCK OXFORD ST</td>\n",
              "      <td>Berkeley</td>\n",
              "      <td>CA</td>\n",
              "    </tr>\n",
              "    <tr>\n",
              "      <th>2</th>\n",
              "      <td>22023993</td>\n",
              "      <td>VANDALISM</td>\n",
              "      <td>05/25/2022 12:00:00 AM</td>\n",
              "      <td>8:00:00 AM</td>\n",
              "      <td>VANDALISM</td>\n",
              "      <td>3</td>\n",
              "      <td>10/13/2022 04:42:00 PM</td>\n",
              "      <td>2400 BLOCK 8TH ST\\nBerkeley, CA\\n(37.86206, -1...</td>\n",
              "      <td>2400 BLOCK 8TH ST</td>\n",
              "      <td>Berkeley</td>\n",
              "      <td>CA</td>\n",
              "    </tr>\n",
              "    <tr>\n",
              "      <th>3</th>\n",
              "      <td>22026547</td>\n",
              "      <td>DISTURBANCE</td>\n",
              "      <td>06/10/2022 12:00:00 AM</td>\n",
              "      <td>9:35:00 PM</td>\n",
              "      <td>DISORDERLY CONDUCT</td>\n",
              "      <td>5</td>\n",
              "      <td>10/13/2022 04:42:00 PM</td>\n",
              "      <td>1300 BLOCK HEARST AVE\\nBerkeley, CA\\n(37.87133...</td>\n",
              "      <td>1300 BLOCK HEARST AVE</td>\n",
              "      <td>Berkeley</td>\n",
              "      <td>CA</td>\n",
              "    </tr>\n",
              "    <tr>\n",
              "      <th>4</th>\n",
              "      <td>22018126</td>\n",
              "      <td>ASSAULT/BATTERY FEL.</td>\n",
              "      <td>04/20/2022 12:00:00 AM</td>\n",
              "      <td>3:31:00 PM</td>\n",
              "      <td>ASSAULT</td>\n",
              "      <td>3</td>\n",
              "      <td>10/13/2022 04:42:00 PM</td>\n",
              "      <td>3000 BLOCK SHATTUCK AVE\\nBerkeley, CA\\n(37.855...</td>\n",
              "      <td>3000 BLOCK SHATTUCK AVE</td>\n",
              "      <td>Berkeley</td>\n",
              "      <td>CA</td>\n",
              "    </tr>\n",
              "  </tbody>\n",
              "</table>\n",
              "</div>\n",
              "    <div class=\"colab-df-buttons\">\n",
              "\n",
              "  <div class=\"colab-df-container\">\n",
              "    <button class=\"colab-df-convert\" onclick=\"convertToInteractive('df-16211b34-cd1c-4176-b1e7-69eb52e3a436')\"\n",
              "            title=\"Convert this dataframe to an interactive table.\"\n",
              "            style=\"display:none;\">\n",
              "\n",
              "  <svg xmlns=\"http://www.w3.org/2000/svg\" height=\"24px\" viewBox=\"0 -960 960 960\">\n",
              "    <path d=\"M120-120v-720h720v720H120Zm60-500h600v-160H180v160Zm220 220h160v-160H400v160Zm0 220h160v-160H400v160ZM180-400h160v-160H180v160Zm440 0h160v-160H620v160ZM180-180h160v-160H180v160Zm440 0h160v-160H620v160Z\"/>\n",
              "  </svg>\n",
              "    </button>\n",
              "\n",
              "  <style>\n",
              "    .colab-df-container {\n",
              "      display:flex;\n",
              "      gap: 12px;\n",
              "    }\n",
              "\n",
              "    .colab-df-convert {\n",
              "      background-color: #E8F0FE;\n",
              "      border: none;\n",
              "      border-radius: 50%;\n",
              "      cursor: pointer;\n",
              "      display: none;\n",
              "      fill: #1967D2;\n",
              "      height: 32px;\n",
              "      padding: 0 0 0 0;\n",
              "      width: 32px;\n",
              "    }\n",
              "\n",
              "    .colab-df-convert:hover {\n",
              "      background-color: #E2EBFA;\n",
              "      box-shadow: 0px 1px 2px rgba(60, 64, 67, 0.3), 0px 1px 3px 1px rgba(60, 64, 67, 0.15);\n",
              "      fill: #174EA6;\n",
              "    }\n",
              "\n",
              "    .colab-df-buttons div {\n",
              "      margin-bottom: 4px;\n",
              "    }\n",
              "\n",
              "    [theme=dark] .colab-df-convert {\n",
              "      background-color: #3B4455;\n",
              "      fill: #D2E3FC;\n",
              "    }\n",
              "\n",
              "    [theme=dark] .colab-df-convert:hover {\n",
              "      background-color: #434B5C;\n",
              "      box-shadow: 0px 1px 3px 1px rgba(0, 0, 0, 0.15);\n",
              "      filter: drop-shadow(0px 1px 2px rgba(0, 0, 0, 0.3));\n",
              "      fill: #FFFFFF;\n",
              "    }\n",
              "  </style>\n",
              "\n",
              "    <script>\n",
              "      const buttonEl =\n",
              "        document.querySelector('#df-16211b34-cd1c-4176-b1e7-69eb52e3a436 button.colab-df-convert');\n",
              "      buttonEl.style.display =\n",
              "        google.colab.kernel.accessAllowed ? 'block' : 'none';\n",
              "\n",
              "      async function convertToInteractive(key) {\n",
              "        const element = document.querySelector('#df-16211b34-cd1c-4176-b1e7-69eb52e3a436');\n",
              "        const dataTable =\n",
              "          await google.colab.kernel.invokeFunction('convertToInteractive',\n",
              "                                                    [key], {});\n",
              "        if (!dataTable) return;\n",
              "\n",
              "        const docLinkHtml = 'Like what you see? Visit the ' +\n",
              "          '<a target=\"_blank\" href=https://colab.research.google.com/notebooks/data_table.ipynb>data table notebook</a>'\n",
              "          + ' to learn more about interactive tables.';\n",
              "        element.innerHTML = '';\n",
              "        dataTable['output_type'] = 'display_data';\n",
              "        await google.colab.output.renderOutput(dataTable, element);\n",
              "        const docLink = document.createElement('div');\n",
              "        docLink.innerHTML = docLinkHtml;\n",
              "        element.appendChild(docLink);\n",
              "      }\n",
              "    </script>\n",
              "  </div>\n",
              "\n",
              "\n",
              "<div id=\"df-26f1c87c-3cd9-4741-9abb-f5e0c468b06d\">\n",
              "  <button class=\"colab-df-quickchart\" onclick=\"quickchart('df-26f1c87c-3cd9-4741-9abb-f5e0c468b06d')\"\n",
              "            title=\"Suggest charts\"\n",
              "            style=\"display:none;\">\n",
              "\n",
              "<svg xmlns=\"http://www.w3.org/2000/svg\" height=\"24px\"viewBox=\"0 0 24 24\"\n",
              "     width=\"24px\">\n",
              "    <g>\n",
              "        <path d=\"M19 3H5c-1.1 0-2 .9-2 2v14c0 1.1.9 2 2 2h14c1.1 0 2-.9 2-2V5c0-1.1-.9-2-2-2zM9 17H7v-7h2v7zm4 0h-2V7h2v10zm4 0h-2v-4h2v4z\"/>\n",
              "    </g>\n",
              "</svg>\n",
              "  </button>\n",
              "\n",
              "<style>\n",
              "  .colab-df-quickchart {\n",
              "      --bg-color: #E8F0FE;\n",
              "      --fill-color: #1967D2;\n",
              "      --hover-bg-color: #E2EBFA;\n",
              "      --hover-fill-color: #174EA6;\n",
              "      --disabled-fill-color: #AAA;\n",
              "      --disabled-bg-color: #DDD;\n",
              "  }\n",
              "\n",
              "  [theme=dark] .colab-df-quickchart {\n",
              "      --bg-color: #3B4455;\n",
              "      --fill-color: #D2E3FC;\n",
              "      --hover-bg-color: #434B5C;\n",
              "      --hover-fill-color: #FFFFFF;\n",
              "      --disabled-bg-color: #3B4455;\n",
              "      --disabled-fill-color: #666;\n",
              "  }\n",
              "\n",
              "  .colab-df-quickchart {\n",
              "    background-color: var(--bg-color);\n",
              "    border: none;\n",
              "    border-radius: 50%;\n",
              "    cursor: pointer;\n",
              "    display: none;\n",
              "    fill: var(--fill-color);\n",
              "    height: 32px;\n",
              "    padding: 0;\n",
              "    width: 32px;\n",
              "  }\n",
              "\n",
              "  .colab-df-quickchart:hover {\n",
              "    background-color: var(--hover-bg-color);\n",
              "    box-shadow: 0 1px 2px rgba(60, 64, 67, 0.3), 0 1px 3px 1px rgba(60, 64, 67, 0.15);\n",
              "    fill: var(--button-hover-fill-color);\n",
              "  }\n",
              "\n",
              "  .colab-df-quickchart-complete:disabled,\n",
              "  .colab-df-quickchart-complete:disabled:hover {\n",
              "    background-color: var(--disabled-bg-color);\n",
              "    fill: var(--disabled-fill-color);\n",
              "    box-shadow: none;\n",
              "  }\n",
              "\n",
              "  .colab-df-spinner {\n",
              "    border: 2px solid var(--fill-color);\n",
              "    border-color: transparent;\n",
              "    border-bottom-color: var(--fill-color);\n",
              "    animation:\n",
              "      spin 1s steps(1) infinite;\n",
              "  }\n",
              "\n",
              "  @keyframes spin {\n",
              "    0% {\n",
              "      border-color: transparent;\n",
              "      border-bottom-color: var(--fill-color);\n",
              "      border-left-color: var(--fill-color);\n",
              "    }\n",
              "    20% {\n",
              "      border-color: transparent;\n",
              "      border-left-color: var(--fill-color);\n",
              "      border-top-color: var(--fill-color);\n",
              "    }\n",
              "    30% {\n",
              "      border-color: transparent;\n",
              "      border-left-color: var(--fill-color);\n",
              "      border-top-color: var(--fill-color);\n",
              "      border-right-color: var(--fill-color);\n",
              "    }\n",
              "    40% {\n",
              "      border-color: transparent;\n",
              "      border-right-color: var(--fill-color);\n",
              "      border-top-color: var(--fill-color);\n",
              "    }\n",
              "    60% {\n",
              "      border-color: transparent;\n",
              "      border-right-color: var(--fill-color);\n",
              "    }\n",
              "    80% {\n",
              "      border-color: transparent;\n",
              "      border-right-color: var(--fill-color);\n",
              "      border-bottom-color: var(--fill-color);\n",
              "    }\n",
              "    90% {\n",
              "      border-color: transparent;\n",
              "      border-bottom-color: var(--fill-color);\n",
              "    }\n",
              "  }\n",
              "</style>\n",
              "\n",
              "  <script>\n",
              "    async function quickchart(key) {\n",
              "      const quickchartButtonEl =\n",
              "        document.querySelector('#' + key + ' button');\n",
              "      quickchartButtonEl.disabled = true;  // To prevent multiple clicks.\n",
              "      quickchartButtonEl.classList.add('colab-df-spinner');\n",
              "      try {\n",
              "        const charts = await google.colab.kernel.invokeFunction(\n",
              "            'suggestCharts', [key], {});\n",
              "      } catch (error) {\n",
              "        console.error('Error during call to suggestCharts:', error);\n",
              "      }\n",
              "      quickchartButtonEl.classList.remove('colab-df-spinner');\n",
              "      quickchartButtonEl.classList.add('colab-df-quickchart-complete');\n",
              "    }\n",
              "    (() => {\n",
              "      let quickchartButtonEl =\n",
              "        document.querySelector('#df-26f1c87c-3cd9-4741-9abb-f5e0c468b06d button');\n",
              "      quickchartButtonEl.style.display =\n",
              "        google.colab.kernel.accessAllowed ? 'block' : 'none';\n",
              "    })();\n",
              "  </script>\n",
              "</div>\n",
              "    </div>\n",
              "  </div>\n"
            ]
          },
          "metadata": {},
          "execution_count": 17
        }
      ],
      "source": [
        "calls.head(5)"
      ]
    },
    {
      "cell_type": "markdown",
      "metadata": {
        "solution2": "hidden",
        "id": "UdEe5fjY-zCl"
      },
      "source": [
        "What are some issues with this data?\n",
        "\n",
        "<details><summary>Click for Solution</summary>\n",
        "\n",
        "1. `EVENTDT` -- Contain the incorrect time stamp\n",
        "1. `EVENTTM` -- Contains the time in 24 hour format (What timezone?)\n",
        "1. `CVDOW` -- Appears to be some encoding of the day of the week (see data documentation).\n",
        "1. `InDbDate` -- Appears to be correctly formatted and appears pretty consistent in time.\n",
        "1. **`Block_Location` -- Errr, what a mess!  newline characters, and Geocoordinates all merged!!  Fortunately, this field was \"quoted\" otherwise we would have had trouble parsing the file. (why?)**\n",
        "1. `BLKADDR` -- This appears to be the address in Block Location.\n",
        "1. `City` and `State` seem redundant given this is supposed to be the city of Berkeley dataset.\n",
        "\n",
        "</details>"
      ]
    },
    {
      "cell_type": "markdown",
      "metadata": {
        "id": "_PeygKYd-zCm"
      },
      "source": [
        "<br><br><br><br>\n",
        "\n",
        "\n",
        "Often I will go column by column looking for things that might be interesting."
      ]
    },
    {
      "cell_type": "markdown",
      "metadata": {
        "id": "MLCVBkiX-zCm"
      },
      "source": [
        "<br><br><br>\n",
        "\n",
        "---\n",
        "\n",
        "## Case Numbers\n",
        "\n",
        "These are probably the primary key but we want to verify that and also examine how they were assigned.\n"
      ]
    },
    {
      "cell_type": "markdown",
      "metadata": {
        "id": "XBwF_cPP-zCn"
      },
      "source": [
        "### Primary Key\n",
        "\n",
        "Case numbers are probably used internally to track individual cases and my reference other data we don't have access to.  However, it is possible that multiple calls could be associated with the same case.  Let's see if the case numbers are all unique.\n"
      ]
    },
    {
      "cell_type": "code",
      "execution_count": null,
      "metadata": {
        "id": "xjo9oyw3-zCn"
      },
      "outputs": [],
      "source": [
        "calls['CASENO'].unique().shape[0]"
      ]
    },
    {
      "cell_type": "code",
      "execution_count": null,
      "metadata": {
        "ExecuteTime": {
          "end_time": "2018-02-02T15:15:19.849003Z",
          "start_time": "2018-02-02T15:15:19.845047Z"
        },
        "id": "C5JAG8ST-zCo"
      },
      "outputs": [],
      "source": [
        "print(\"There are\", calls['CASENO'].unique().shape[0], \"unique case numbers.\")\n",
        "print(\"There are\", calls.shape[0], \"calls in the table.\")"
      ]
    },
    {
      "cell_type": "markdown",
      "metadata": {
        "id": "AkaOvxYv-zCo"
      },
      "source": [
        "### Case Numbers and Time\n",
        "\n",
        "Sometimes something as simple as a case number and when it was created can reveal something about how the case was processed.\n",
        "\n",
        "However we need to clean up the date and time encoding"
      ]
    },
    {
      "cell_type": "code",
      "execution_count": null,
      "metadata": {
        "id": "BOhEG5p_-zCo"
      },
      "outputs": [],
      "source": [
        "calls.head(2)"
      ]
    },
    {
      "cell_type": "code",
      "execution_count": null,
      "metadata": {
        "id": "w885gQkA-zCp"
      },
      "outputs": [],
      "source": [
        "px.scatter(calls, y=calls[\"CASENO\"].sort_values())"
      ]
    },
    {
      "cell_type": "markdown",
      "metadata": {
        "id": "cm8VHRNB-zCp"
      },
      "source": [
        "Merging `EVENTDT` and `EVENTTM` to construct a single date time object."
      ]
    },
    {
      "cell_type": "code",
      "execution_count": null,
      "metadata": {
        "id": "i9TQQjG5-zCq"
      },
      "outputs": [],
      "source": [
        "pd.to_datetime(calls['EVENTDT']).dt.date"
      ]
    },
    {
      "cell_type": "code",
      "execution_count": null,
      "metadata": {
        "id": "9bpyw8E_-zCq"
      },
      "outputs": [],
      "source": [
        "def combine_date_time(dates, times):\n",
        "    from datetime import datetime\n",
        "    return pd.concat([dates, times], axis=1).apply(\n",
        "        lambda r: datetime.combine(r[0], r[1]), axis=1)\n",
        "\n",
        "dates = pd.to_datetime(calls['EVENTDT']).dt.date\n",
        "times = pd.to_datetime(calls['EVENTTM']).dt.time\n",
        "calls['date'] = combine_date_time(dates, times)"
      ]
    },
    {
      "cell_type": "code",
      "execution_count": null,
      "metadata": {
        "id": "A_9LVB68-zCr"
      },
      "outputs": [],
      "source": [
        "calls['date']"
      ]
    },
    {
      "cell_type": "markdown",
      "metadata": {
        "id": "Mbvxf7wj-zCr"
      },
      "source": [
        "Plotting the cases numbers in time."
      ]
    },
    {
      "cell_type": "code",
      "execution_count": null,
      "metadata": {
        "id": "-_zrE4_a-zCr"
      },
      "outputs": [],
      "source": [
        "px.scatter(calls, x=\"date\", y=\"CASENO\", hover_name=\"CVLEGEND\")"
      ]
    },
    {
      "cell_type": "markdown",
      "metadata": {
        "id": "Np34cfn2-zCs"
      },
      "source": [
        "I like to use interactive plotting tools so I can hover the mouse over the plot and read the values.  "
      ]
    },
    {
      "cell_type": "markdown",
      "metadata": {
        "id": "5LgLSQXB-zCs"
      },
      "source": [
        "**What might we be observing?**"
      ]
    },
    {
      "cell_type": "markdown",
      "metadata": {
        "id": "aTQF8t87-zCs"
      },
      "source": [
        "<br><br><br>\n",
        "\n",
        "---\n",
        "\n",
        "## The Offense Field\n",
        "\n",
        "The Offense field appears to contain the specific crime being reported.  As nominal data we might want to see a summary constructed by computing counts of each offense type:"
      ]
    },
    {
      "cell_type": "code",
      "execution_count": null,
      "metadata": {
        "id": "8dPeN23P-zCs"
      },
      "outputs": [],
      "source": [
        "calls['OFFENSE'].value_counts()"
      ]
    },
    {
      "cell_type": "code",
      "execution_count": null,
      "metadata": {
        "id": "fb17dFOo-zCt"
      },
      "outputs": [],
      "source": [
        "fig = px.histogram(calls, x=\"OFFENSE\")\n",
        "fig.update_xaxes(categoryorder='total descending')"
      ]
    },
    {
      "cell_type": "markdown",
      "metadata": {
        "id": "Zk7HUrUW-zCt"
      },
      "source": [
        "#### Observations?"
      ]
    },
    {
      "cell_type": "markdown",
      "metadata": {
        "id": "qTFJFlby-zCt"
      },
      "source": [
        "<br><br><br>\n",
        "\n",
        "---\n",
        "\n",
        "\n",
        "## CVLEGEND\n",
        "\n",
        "The CVLEGEND field provides the broad category of crime and is a good mechanism to group potentially similar crimes."
      ]
    },
    {
      "cell_type": "code",
      "execution_count": null,
      "metadata": {
        "ExecuteTime": {
          "end_time": "2018-02-02T15:15:32.695890Z",
          "start_time": "2018-02-02T15:15:30.443888Z"
        },
        "id": "pMuB_sSx-zCt"
      },
      "outputs": [],
      "source": [
        "fig = px.histogram(calls, x=\"CVLEGEND\")\n",
        "fig.update_xaxes(categoryorder='total descending')"
      ]
    },
    {
      "cell_type": "markdown",
      "metadata": {
        "id": "r5Ef5DVG-zCt"
      },
      "source": [
        "Notice that when we group by the crime time we see that **larceny** emerges as one of the top crimes.  Larceny is essentially stealing -- taking someone else stuff without force."
      ]
    },
    {
      "cell_type": "markdown",
      "metadata": {
        "id": "m-r5ltw0-zCu"
      },
      "source": [
        "### What is the relationship between Offense and CVLegend"
      ]
    },
    {
      "cell_type": "code",
      "execution_count": null,
      "metadata": {
        "id": "zH2kT77c-zCu"
      },
      "outputs": [],
      "source": [
        "calls.groupby(['OFFENSE', 'CVLEGEND'])['CASENO'].count()"
      ]
    },
    {
      "cell_type": "code",
      "execution_count": null,
      "metadata": {
        "id": "QVSfCVWJ-zCu"
      },
      "outputs": [],
      "source": [
        "pvt = pd.pivot_table(calls,\n",
        "                     values=\"CASENO\",\n",
        "                     index=\"OFFENSE\",\n",
        "                     columns=\"CVLEGEND\",\n",
        "                     aggfunc=\"count\",\n",
        "                     fill_value=0)\n",
        "pvt"
      ]
    },
    {
      "cell_type": "code",
      "execution_count": null,
      "metadata": {
        "id": "V9OEdKAz-zCu"
      },
      "outputs": [],
      "source": [
        "px.imshow(pvt.to_numpy().T,\n",
        "          x=pvt.index,\n",
        "          y=pvt.columns,\n",
        "          height=800)"
      ]
    },
    {
      "cell_type": "markdown",
      "metadata": {
        "id": "w58fBRaw-zCu"
      },
      "source": [
        "<br><br><br>\n",
        "\n",
        "---\n",
        "\n",
        "\n",
        "\n",
        "## Time Fields\n",
        "\n",
        "We already started to look at where this data is situated in time and how calls were reported during the reporting period.  Now lets examine how calls relate to day of the week and even the type of crime."
      ]
    },
    {
      "cell_type": "code",
      "execution_count": null,
      "metadata": {
        "id": "b0vFQRRc-zCv"
      },
      "outputs": [],
      "source": [
        "calls.head(2)"
      ]
    },
    {
      "cell_type": "markdown",
      "metadata": {
        "id": "XMs0c6sn-zCv"
      },
      "source": [
        "Again, we need to do some data cleaning.  `CVDOW` contains the day of the week.  According to the documentation `CVDOW=0` is Sunday, `CVDOW=1` is Monday, ...,  Therefore we can make a series to decode the day of the week for each record and join that series with the calls data."
      ]
    },
    {
      "cell_type": "code",
      "execution_count": null,
      "metadata": {
        "ExecuteTime": {
          "end_time": "2018-02-02T15:15:19.160218Z",
          "start_time": "2018-02-02T15:15:19.152680Z"
        },
        "id": "SE-WK1Lw-zCv"
      },
      "outputs": [],
      "source": [
        "dow = pd.Series([\"Sunday\", \"Monday\", \"Tuesday\",\n",
        "                 \"Wednesday\", \"Thursday\", \"Friday\",\n",
        "                 \"Saturday\"], name=\"Day\")\n",
        "dow"
      ]
    },
    {
      "cell_type": "code",
      "execution_count": null,
      "metadata": {
        "ExecuteTime": {
          "end_time": "2018-02-02T15:15:19.224038Z",
          "start_time": "2018-02-02T15:15:19.189254Z"
        },
        "id": "y6SpvC31-zCv"
      },
      "outputs": [],
      "source": [
        "calls = pd.merge(calls, pd.DataFrame(dow),\n",
        "                 left_on='CVDOW', right_index=True).sort_index()\n",
        "calls.head()"
      ]
    },
    {
      "cell_type": "code",
      "execution_count": null,
      "metadata": {
        "id": "dL4h23gA-zCw"
      },
      "outputs": [],
      "source": [
        "px.histogram(calls, \"Day\", category_orders={\"Day\": dow})"
      ]
    },
    {
      "cell_type": "markdown",
      "metadata": {
        "id": "io48jZSe-zCw"
      },
      "source": [
        "We can also stratify by the kind of crime."
      ]
    },
    {
      "cell_type": "code",
      "execution_count": null,
      "metadata": {
        "id": "XsrNzl55-zCw"
      },
      "outputs": [],
      "source": [
        "px.histogram(calls, \"Day\", color=\"CVLEGEND\",\n",
        "             barmode=\"stack\",\n",
        "             category_orders={\"Day\": dow},\n",
        "             height=700)"
      ]
    },
    {
      "cell_type": "markdown",
      "metadata": {
        "id": "7R5jR0pA-zCx"
      },
      "source": [
        "**Observations?**"
      ]
    },
    {
      "cell_type": "markdown",
      "metadata": {
        "id": "moOmsgsj-zCx"
      },
      "source": [
        "<br><br><br>\n",
        "\n",
        "### How about temporal patterns within a day?"
      ]
    },
    {
      "cell_type": "code",
      "execution_count": null,
      "metadata": {
        "ExecuteTime": {
          "end_time": "2018-02-02T15:15:28.279664Z",
          "start_time": "2018-02-02T15:15:28.263705Z"
        },
        "id": "AtwSdvw_-zCx"
      },
      "outputs": [],
      "source": [
        "calls['hour_of_day'] = (\n",
        "    (calls['date'].dt.hour * 60 + calls['date'].dt.minute ) / 60\n",
        ")"
      ]
    },
    {
      "cell_type": "code",
      "execution_count": null,
      "metadata": {
        "id": "n3HVIv45-zCx"
      },
      "outputs": [],
      "source": [
        "px.histogram(calls, x=\"hour_of_day\")"
      ]
    },
    {
      "cell_type": "markdown",
      "metadata": {
        "tags": [],
        "id": "5nOtVT-c-zCx"
      },
      "source": [
        "**Observations?**\n",
        "\n",
        "<details><summary>Click for Solution</summary>\n",
        "    \n",
        "In the above plot we see the standard pattern of limited activity early in the morning around here 6:00AM.  We also see that large spikes at 0 and 12.  Why?\n",
        "\n",
        "</details>"
      ]
    },
    {
      "cell_type": "markdown",
      "metadata": {
        "id": "pMjymB0J-zCy"
      },
      "source": [
        "<br><br><br>\n",
        "\n",
        "\n",
        "### Stratified Analysis\n",
        "\n",
        "To better understand the time of day a report occurs we could stratify the analysis by the day of the week.  To do this we will use box plots.  \n"
      ]
    },
    {
      "cell_type": "code",
      "execution_count": null,
      "metadata": {
        "id": "bzH6PNcF-zCy"
      },
      "outputs": [],
      "source": [
        "px.histogram(calls, x=\"hour_of_day\", facet_row=\"Day\", height=800)"
      ]
    },
    {
      "cell_type": "code",
      "execution_count": null,
      "metadata": {
        "id": "wpyCk9J_-zCy"
      },
      "outputs": [],
      "source": [
        "px.violin(calls.sort_values(\"CVDOW\"),\n",
        "          y=\"hour_of_day\", x=\"Day\",\n",
        "          box=True, points=\"all\",\n",
        "          hover_name=\"CVLEGEND\")"
      ]
    },
    {
      "cell_type": "code",
      "execution_count": null,
      "metadata": {
        "id": "0m9qPql7-zCy"
      },
      "outputs": [],
      "source": [
        "px.box(calls, y=\"hour_of_day\", x=\"CVLEGEND\")"
      ]
    },
    {
      "cell_type": "code",
      "execution_count": null,
      "metadata": {
        "id": "vll2lEqU-zCy"
      },
      "outputs": [],
      "source": [
        "px.histogram(calls,\n",
        "             x=\"hour_of_day\",\n",
        "             color=\"CVLEGEND\",\n",
        "             height=800, barmode=\"overlay\")"
      ]
    },
    {
      "cell_type": "markdown",
      "metadata": {
        "id": "fLHsKd5_-zCz"
      },
      "source": [
        "**Observations?**"
      ]
    },
    {
      "cell_type": "markdown",
      "metadata": {
        "id": "fTF3RHlb-zCz"
      },
      "source": [
        "<br><br><br>\n",
        "\n",
        "---\n",
        "\n",
        "## Location\n",
        "\n",
        "The block location contains the lat/lon coordinates and I might want to use these to analyze the location of each request.  Let's try to extract the GPS coordinates using regular expressions (we will cover regular expressions in future lectures):\n"
      ]
    },
    {
      "cell_type": "code",
      "execution_count": null,
      "metadata": {
        "ExecuteTime": {
          "end_time": "2018-02-02T15:15:19.230720Z",
          "start_time": "2018-02-02T15:15:19.225971Z"
        },
        "id": "kEaH8AeC-zCz"
      },
      "outputs": [],
      "source": [
        "calls['Block_Location'].head(10)"
      ]
    },
    {
      "cell_type": "code",
      "execution_count": null,
      "metadata": {
        "ExecuteTime": {
          "end_time": "2018-02-02T15:15:19.268222Z",
          "start_time": "2018-02-02T15:15:19.233193Z"
        },
        "id": "1mpSlJ9U-zCz"
      },
      "outputs": [],
      "source": [
        "calls_lat_lon = (\n",
        "    # Remove newlines\n",
        "    calls['Block_Location'].str.replace(\"\\n\", \"\\t\")\n",
        "    # Extract Lat and Lon using regular expression\n",
        "    .str.extract(\".*\\((?P<Lat>\\d*\\.\\d*)\\, (?P<Lon>-?\\d*\\.\\d*)\\)\", expand=True)\n",
        "    .astype(float)\n",
        ")\n",
        "calls_lat_lon.head(20)"
      ]
    },
    {
      "cell_type": "markdown",
      "metadata": {
        "id": "TE7SMvz_-zC0"
      },
      "source": [
        "The following block of code joins the extracted Latitude and Longitude fields with the calls data.  Notice that we actually drop these fields before joining.  This is to enable repeated invocation of this cell even after the join has been completed."
      ]
    },
    {
      "cell_type": "code",
      "execution_count": null,
      "metadata": {
        "id": "1BAhI0AF-zC0"
      },
      "outputs": [],
      "source": [
        "# Join in the the latitude and longitude data\n",
        "calls = calls.join(calls_lat_lon)\n",
        "# calls[[\"Lat\", \"Lon\"]] = calls_lat_lon\n",
        "calls.head()"
      ]
    },
    {
      "cell_type": "code",
      "execution_count": null,
      "metadata": {
        "id": "DpUhbROq-zC0"
      },
      "outputs": [],
      "source": [
        "px.set_mapbox_access_token(open(\"mapbox.token\").read())"
      ]
    },
    {
      "cell_type": "code",
      "execution_count": null,
      "metadata": {
        "id": "DFTm62Ca-zC0"
      },
      "outputs": [],
      "source": [
        "px.density_mapbox(calls, lat='Lat', lon='Lon', radius=7, zoom=12,\n",
        "                        mapbox_style=\"stamen-terrain\", height=800)"
      ]
    },
    {
      "cell_type": "markdown",
      "metadata": {
        "id": "2hZexujz-zC0"
      },
      "source": [
        "### Questions\n",
        "\n",
        "1. Why are all the calls located on the street and at often at intersections?\n"
      ]
    },
    {
      "cell_type": "code",
      "execution_count": null,
      "metadata": {
        "id": "d5yGUkNa-zC0"
      },
      "outputs": [],
      "source": [
        "calls.head(2)"
      ]
    },
    {
      "cell_type": "code",
      "execution_count": null,
      "metadata": {
        "id": "9Lq8ZOMZ-zC1"
      },
      "outputs": [],
      "source": [
        "px.scatter_mapbox(calls,\n",
        "                  lat=\"Lat\", lon=\"Lon\",\n",
        "                  color=\"CVLEGEND\", size_max=10, zoom=12, height=800)"
      ]
    },
    {
      "cell_type": "markdown",
      "metadata": {
        "id": "GxVLzARm-zC1"
      },
      "source": [
        "# You Explore\n",
        "\n",
        "What else do you see in this data?  Try playing with it."
      ]
    },
    {
      "cell_type": "code",
      "execution_count": null,
      "metadata": {
        "id": "HBp5p5Fl-zC1"
      },
      "outputs": [],
      "source": []
    },
    {
      "cell_type": "code",
      "execution_count": null,
      "metadata": {
        "id": "o0r7FILq-zC1"
      },
      "outputs": [],
      "source": []
    },
    {
      "cell_type": "code",
      "execution_count": null,
      "metadata": {
        "id": "wrU9NVUs-zC2"
      },
      "outputs": [],
      "source": []
    },
    {
      "cell_type": "code",
      "execution_count": null,
      "metadata": {
        "id": "IKQOJTC9-zC2"
      },
      "outputs": [],
      "source": []
    },
    {
      "cell_type": "markdown",
      "metadata": {
        "tags": [],
        "id": "CtFd4e5x-zC2"
      },
      "source": [
        "<br><br><br><br>\n",
        "\n",
        "\n",
        "---\n",
        "\n",
        "\n",
        "# EDA on Stops Data\n",
        "\n",
        "## You try\n"
      ]
    },
    {
      "cell_type": "code",
      "execution_count": null,
      "metadata": {
        "id": "ihKovWKX-zC2"
      },
      "outputs": [],
      "source": [
        "stops.head()"
      ]
    },
    {
      "cell_type": "code",
      "execution_count": null,
      "metadata": {
        "id": "FNIbRoYk-zC2"
      },
      "outputs": [],
      "source": []
    },
    {
      "cell_type": "code",
      "execution_count": null,
      "metadata": {
        "id": "4qQQop26-zC3"
      },
      "outputs": [],
      "source": []
    },
    {
      "cell_type": "code",
      "execution_count": null,
      "metadata": {
        "id": "MBcApGoj-zC3"
      },
      "outputs": [],
      "source": []
    },
    {
      "cell_type": "code",
      "execution_count": null,
      "metadata": {
        "id": "lIFHxeDz-zC3"
      },
      "outputs": [],
      "source": []
    },
    {
      "cell_type": "markdown",
      "metadata": {
        "tags": [],
        "id": "S8IY2WMy-zC3"
      },
      "source": [
        "<br><br><br><br>\n",
        "\n",
        "\n",
        "---\n",
        "\n",
        "\n",
        "# EDA on Stops Data\n",
        "\n",
        "Often the first step of EDA is addressing any obvious issues with the data:\n"
      ]
    },
    {
      "cell_type": "code",
      "execution_count": null,
      "metadata": {
        "id": "my0FzZ5f-zC4"
      },
      "outputs": [],
      "source": [
        "stops.head()"
      ]
    },
    {
      "cell_type": "markdown",
      "metadata": {
        "id": "y5gMljR7-zC4"
      },
      "source": [
        "<br><br><br>\n",
        "\n",
        "---\n",
        "\n",
        "## Record Numbers"
      ]
    },
    {
      "cell_type": "code",
      "execution_count": null,
      "metadata": {
        "id": "Gfcl5RJ5-zC4"
      },
      "outputs": [],
      "source": [
        "print(\"Unique Records:\", len(stops['lea_record_id'].unique()))\n",
        "print(\"Total Records:\", len(stops))"
      ]
    },
    {
      "cell_type": "code",
      "execution_count": null,
      "metadata": {
        "id": "7zXU6Jrs-zC4"
      },
      "outputs": [],
      "source": [
        "stops.head()"
      ]
    },
    {
      "cell_type": "code",
      "execution_count": null,
      "metadata": {
        "id": "f85ZIBvW-zC5"
      },
      "outputs": [],
      "source": [
        "px.histogram(stops[\"lea_record_id\"].value_counts(), log_y=True)"
      ]
    },
    {
      "cell_type": "markdown",
      "metadata": {
        "id": "ntW7lxRI-zC5"
      },
      "source": [
        "<br><br><br>\n",
        "\n",
        "### Temporality"
      ]
    },
    {
      "cell_type": "code",
      "execution_count": null,
      "metadata": {
        "id": "cOX9iVxx-zC5"
      },
      "outputs": [],
      "source": [
        "dates = pd.to_datetime(stops['date_of_stop']).dt.date\n",
        "times = pd.to_datetime(stops['time_of_stop']).dt.time\n",
        "stops['date'] = combine_date_time(dates, times)"
      ]
    },
    {
      "cell_type": "code",
      "execution_count": null,
      "metadata": {
        "id": "XNTYKPUE-zC5"
      },
      "outputs": [],
      "source": [
        "stops['record_num'] = stops['lea_record_id'].str.replace(\"BPD\", \"\").astype(float)"
      ]
    },
    {
      "cell_type": "code",
      "execution_count": null,
      "metadata": {
        "id": "1uyDMYeS-zC6"
      },
      "outputs": [],
      "source": [
        "px.scatter(stops, x=\"date\", y=\"record_num\")"
      ]
    },
    {
      "cell_type": "markdown",
      "metadata": {
        "id": "M477DDVl-zC6"
      },
      "source": [
        "<br><br><br>\n",
        "\n",
        "---\n",
        "\n",
        "## Person Number"
      ]
    },
    {
      "cell_type": "code",
      "execution_count": null,
      "metadata": {
        "id": "cDfbk7af-zC6"
      },
      "outputs": [],
      "source": [
        "px.histogram(stops, x=\"person_number\")"
      ]
    },
    {
      "cell_type": "markdown",
      "metadata": {
        "id": "4BKkbwuz-zC6"
      },
      "source": [
        "<br><br><br>\n",
        "\n",
        "---\n",
        "\n",
        "## Perceived Race"
      ]
    },
    {
      "cell_type": "code",
      "execution_count": null,
      "metadata": {
        "id": "k0P3Mwfi-zC6"
      },
      "outputs": [],
      "source": [
        "fig = px.histogram(stops, x='perceived_race_or_ethnicity',\n",
        "                   log_y=True, height=600)\n",
        "fig.update_xaxes(categoryorder='total descending')\n",
        "fig"
      ]
    },
    {
      "cell_type": "code",
      "execution_count": null,
      "metadata": {
        "id": "xWnB-xX9-zC7"
      },
      "outputs": [],
      "source": [
        "split_race_or_ethnicity = stops['perceived_race_or_ethnicity'].str.split(\"|\").explode()\n",
        "split_race_or_ethnicity"
      ]
    },
    {
      "cell_type": "code",
      "execution_count": null,
      "metadata": {
        "id": "GwwW01gK-zC7"
      },
      "outputs": [],
      "source": [
        "fig = px.histogram(x=split_race_or_ethnicity, log_y=False)\n",
        "fig.update_xaxes(categoryorder='total descending')"
      ]
    },
    {
      "cell_type": "markdown",
      "metadata": {
        "id": "4rn5wofd-zC7"
      },
      "source": [
        "Relationship to whether the race was perceived prior to the stop:"
      ]
    },
    {
      "cell_type": "code",
      "execution_count": null,
      "metadata": {
        "id": "rRLx9df0-zC7"
      },
      "outputs": [],
      "source": [
        "perception = pd.merge(\n",
        "    split_race_or_ethnicity, stops['raceperceivedpriortostop'],\n",
        "    left_index=True, right_index=True)\n",
        "perception"
      ]
    },
    {
      "cell_type": "code",
      "execution_count": null,
      "metadata": {
        "id": "P12YGTY7-zC7"
      },
      "outputs": [],
      "source": [
        "px.histogram(perception,\n",
        "             x='perceived_race_or_ethnicity',\n",
        "             color=\"raceperceivedpriortostop\",\n",
        "             barmode=\"group\")"
      ]
    },
    {
      "cell_type": "markdown",
      "metadata": {
        "id": "ogALI3Av-zC8"
      },
      "source": [
        "<br><br><br>\n",
        "\n",
        "---\n",
        "\n",
        "## City of Residence"
      ]
    },
    {
      "cell_type": "code",
      "execution_count": null,
      "metadata": {
        "id": "ul6oCvSB-zC8"
      },
      "outputs": [],
      "source": [
        "fig = px.histogram(stops, x=\"city_of_residence\", log_y=True)\n",
        "fig.update_xaxes(categoryorder='total descending')"
      ]
    },
    {
      "cell_type": "code",
      "execution_count": null,
      "metadata": {
        "id": "l1jiDuv7-zC8"
      },
      "outputs": [],
      "source": [
        "top_cities = (stops\n",
        "              .groupby(\"city_of_residence\", as_index=False).size()\n",
        "              .sort_values(\"size\", ascending=False)\n",
        "              .head(20))\n",
        "px.bar(top_cities, x=\"city_of_residence\", y=\"size\", log_y=True)"
      ]
    }
  ],
  "metadata": {
    "kernelspec": {
      "display_name": "Python 3 (ipykernel)",
      "language": "python",
      "name": "python3"
    },
    "language_info": {
      "codemirror_mode": {
        "name": "ipython",
        "version": 3
      },
      "file_extension": ".py",
      "mimetype": "text/x-python",
      "name": "python",
      "nbconvert_exporter": "python",
      "pygments_lexer": "ipython3",
      "version": "3.9.13"
    },
    "colab": {
      "provenance": [],
      "include_colab_link": true
    }
  },
  "nbformat": 4,
  "nbformat_minor": 0
}